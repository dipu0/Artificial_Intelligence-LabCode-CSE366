{
 "cells": [
  {
   "cell_type": "markdown",
   "id": "12afae63",
   "metadata": {},
   "source": [
    "# CSE366 Lab 2 Exercises"
   ]
  },
  {
   "cell_type": "markdown",
   "id": "9629bf04",
   "metadata": {},
   "source": [
    "## exercise 1\n",
    "Write a program in Python to find the root of a quadratice\n",
    "equation."
   ]
  },
  {
   "cell_type": "code",
   "execution_count": 1,
   "id": "d64e7804",
   "metadata": {},
   "outputs": [
    {
     "name": "stdout",
     "output_type": "stream",
     "text": [
      "Number of roots is 2 : X1:  -1.3333333333333333  X2 -2.0\n"
     ]
    }
   ],
   "source": [
    "#quadratic equation ax**2 + bx + c = 0\n",
    "\n",
    "from math import sqrt\n",
    "a=3\n",
    "b=10\n",
    "c=8\n",
    "r = b**2 - 4*a*c\n",
    "\n",
    "#when number of roots 2\n",
    "if r > 0:\n",
    "    root1 = (((-b) + sqrt(r))/(2*a))     \n",
    "    root2 = (((-b) - sqrt(r))/(2*a))\n",
    "    print(\"Number of roots is 2 :\",\"X1: \",root1,\" X2\",root2)\n",
    "#when number of roots 1\n",
    "elif r == 0:\n",
    "    root = (-b) / 2*a\n",
    "    print(\"Root: \", root)\n",
    "#when number of roots 0\n",
    "else:\n",
    "    print(\"No roots\")"
   ]
  },
  {
   "cell_type": "markdown",
   "id": "741adc3a",
   "metadata": {},
   "source": [
    "## exercise 2\n",
    "Write code to perform grade computation"
   ]
  },
  {
   "cell_type": "code",
   "execution_count": 2,
   "id": "e2ad4611",
   "metadata": {},
   "outputs": [
    {
     "name": "stdout",
     "output_type": "stream",
     "text": [
      " You have obtained Grade A = 4.00 \n"
     ]
    }
   ],
   "source": [
    "Numerical_Scores= 96\n",
    "if (97 <= Numerical_Scores <= 100):\n",
    "    print(\" You have obtained Grade A+ = 4.00 \")\n",
    "elif  (90 <= Numerical_Scores < 97):\n",
    "    print(\" You have obtained Grade A = 4.00 \")        \n",
    "elif  (87 <= Numerical_Scores < 90):\n",
    "    print(\" You have obtained Grade A- = 3.70 \")         \n",
    "elif  (83 <= Numerical_Scores < 87):\n",
    "    print(\" You have obtained Grade B+ = 3.30 \")          \n",
    "elif  (80 <= Numerical_Scores < 83):            \n",
    "    print(\" You have obtained Grade B = 3.00 \")           \n",
    "elif  (77 <= Numerical_Scores < 80):           \n",
    "    print(\" You have obtained Grade B- = 2.70 \")            \n",
    "elif  (73 <= Numerical_Scores < 77):\n",
    "    print(\" You have obtained Grade C = 2.00 \")           \n",
    "elif  (67 <= Numerical_Scores < 70):\n",
    "    print(\" You have obtained Grade C- = 1.70 \")\n",
    "elif (63 <= Numerical_Scores < 67):\n",
    "    print(\" You have obtained Grade D+ = 1.30 \")\n",
    "elif  (60 <= Numerical_Scores < 63):\n",
    "    print(\" You have obtained Grade D = 1.00 \")\n",
    "elif ( 0 <= Numerical_Scores < 60):\n",
    "    print(\" You have obtained Grade F = 0.00 \")\n",
    "else :\n",
    "    print('Invalid Numerical Scores')\n"
   ]
  },
  {
   "cell_type": "markdown",
   "id": "3a5a5cfe",
   "metadata": {},
   "source": [
    "## exercise 3\n",
    "Given two numeric lists or tuples x_vals and y_vals of equal\n",
    "length, compute their inner product uzing zip(). Additionally count\n",
    "the number of even number in 0 to 99. Furthermore given pairs =\n",
    "((4, 5), (6,7), (8,9)) count the number of pairs (x,y) such that a and b\n",
    "are odd."
   ]
  },
  {
   "cell_type": "markdown",
   "id": "89188200",
   "metadata": {},
   "source": [
    "### part1"
   ]
  },
  {
   "cell_type": "code",
   "execution_count": 3,
   "id": "b54f9d44",
   "metadata": {},
   "outputs": [
    {
     "name": "stdout",
     "output_type": "stream",
     "text": [
      "27\n"
     ]
    }
   ],
   "source": [
    "x_vals = [0, 9, 3]\n",
    "y_vals = [9, 3, 0]\n",
    "inner_product=0\n",
    "for x, y in zip(x_vals, y_vals):\n",
    "    inner_product += x*y\n",
    "print(inner_product)"
   ]
  },
  {
   "cell_type": "markdown",
   "id": "f8c4559a",
   "metadata": {},
   "source": [
    "### part2"
   ]
  },
  {
   "cell_type": "code",
   "execution_count": 4,
   "id": "279c550f",
   "metadata": {},
   "outputs": [
    {
     "name": "stdout",
     "output_type": "stream",
     "text": [
      "50\n"
     ]
    }
   ],
   "source": [
    "count =0\n",
    "for i in range(0,99):\n",
    "    if i%2 == 0:\n",
    "        count+=1\n",
    "print(count)"
   ]
  },
  {
   "cell_type": "markdown",
   "id": "afe0bd0f",
   "metadata": {},
   "source": [
    "### part3"
   ]
  },
  {
   "cell_type": "code",
   "execution_count": 5,
   "id": "644a6249",
   "metadata": {},
   "outputs": [
    {
     "name": "stdout",
     "output_type": "stream",
     "text": [
      "0\n"
     ]
    }
   ],
   "source": [
    "pairs = ((4, 5), (6, 7), (9, 8))\n",
    "count =0\n",
    "for x, y in pairs:    \n",
    "    if (x % 2 != 0 and y % 2 != 0) :\n",
    "        count+=1\n",
    "        print(x,\" \",y) #print(x,\" \",y)\n",
    "print(count)"
   ]
  }
 ],
 "metadata": {
  "kernelspec": {
   "display_name": "Python 3",
   "language": "python",
   "name": "python3"
  },
  "language_info": {
   "codemirror_mode": {
    "name": "ipython",
    "version": 3
   },
   "file_extension": ".py",
   "mimetype": "text/x-python",
   "name": "python",
   "nbconvert_exporter": "python",
   "pygments_lexer": "ipython3",
   "version": "3.8.8"
  }
 },
 "nbformat": 4,
 "nbformat_minor": 5
}
