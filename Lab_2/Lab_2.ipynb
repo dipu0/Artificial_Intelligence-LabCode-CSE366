{
 "cells": [
  {
   "cell_type": "markdown",
   "metadata": {},
   "source": [
    "# Float"
   ]
  },
  {
   "cell_type": "code",
   "execution_count": 3,
   "metadata": {},
   "outputs": [
    {
     "data": {
      "text/plain": [
       "0.3333333333333333"
      ]
     },
     "execution_count": 3,
     "metadata": {},
     "output_type": "execute_result"
    }
   ],
   "source": [
    "1/3"
   ]
  },
  {
   "cell_type": "code",
   "execution_count": 5,
   "metadata": {},
   "outputs": [
    {
     "name": "stdout",
     "output_type": "stream",
     "text": [
      "0.33\n"
     ]
    }
   ],
   "source": [
    "print(format(1/3,'0.2f'))"
   ]
  },
  {
   "cell_type": "code",
   "execution_count": 10,
   "metadata": {},
   "outputs": [],
   "source": [
    "import math"
   ]
  },
  {
   "cell_type": "code",
   "execution_count": 13,
   "metadata": {},
   "outputs": [
    {
     "name": "stdout",
     "output_type": "stream",
     "text": [
      "3.141592653590\n"
     ]
    }
   ],
   "source": [
    "print(format(math.pi,'.12f'))"
   ]
  },
  {
   "cell_type": "code",
   "execution_count": 14,
   "metadata": {},
   "outputs": [
    {
     "name": "stdout",
     "output_type": "stream",
     "text": [
      "3.14159265359\n"
     ]
    }
   ],
   "source": [
    "print(format(math.pi,'.12g'))"
   ]
  },
  {
   "cell_type": "code",
   "execution_count": 15,
   "metadata": {},
   "outputs": [
    {
     "data": {
      "text/plain": [
       "True"
      ]
     },
     "execution_count": 15,
     "metadata": {},
     "output_type": "execute_result"
    }
   ],
   "source": [
    "2**52<=2**56//10 <2**53"
   ]
  },
  {
   "cell_type": "code",
   "execution_count": 16,
   "metadata": {},
   "outputs": [
    {
     "data": {
      "text/plain": [
       "4503599627370496"
      ]
     },
     "execution_count": 16,
     "metadata": {},
     "output_type": "execute_result"
    }
   ],
   "source": [
    "2**52"
   ]
  },
  {
   "cell_type": "markdown",
   "metadata": {},
   "source": [
    "# Starings"
   ]
  },
  {
   "cell_type": "code",
   "execution_count": 18,
   "metadata": {},
   "outputs": [],
   "source": [
    "season =\"winter is coming\""
   ]
  },
  {
   "cell_type": "code",
   "execution_count": 19,
   "metadata": {},
   "outputs": [],
   "source": [
    "length = len(season )"
   ]
  },
  {
   "cell_type": "code",
   "execution_count": 20,
   "metadata": {},
   "outputs": [
    {
     "data": {
      "text/plain": [
       "16"
      ]
     },
     "execution_count": 20,
     "metadata": {},
     "output_type": "execute_result"
    }
   ],
   "source": [
    "length "
   ]
  },
  {
   "cell_type": "code",
   "execution_count": 23,
   "metadata": {},
   "outputs": [
    {
     "data": {
      "text/plain": [
       "'i'"
      ]
     },
     "execution_count": 23,
     "metadata": {},
     "output_type": "execute_result"
    }
   ],
   "source": [
    "last = season[length -3]\n",
    "last"
   ]
  },
  {
   "cell_type": "code",
   "execution_count": 25,
   "metadata": {},
   "outputs": [
    {
     "data": {
      "text/plain": [
       "'s'"
      ]
     },
     "execution_count": 25,
     "metadata": {},
     "output_type": "execute_result"
    }
   ],
   "source": [
    "middle = season[length  - 8]\n",
    "middle"
   ]
  },
  {
   "cell_type": "markdown",
   "metadata": {},
   "source": [
    "# Loop"
   ]
  },
  {
   "cell_type": "code",
   "execution_count": 26,
   "metadata": {},
   "outputs": [
    {
     "name": "stdout",
     "output_type": "stream",
     "text": [
      "w\n",
      "i\n",
      "n\n",
      "t\n",
      "e\n",
      "r\n",
      " \n",
      "i\n",
      "s\n",
      " \n",
      "c\n",
      "o\n",
      "m\n",
      "i\n",
      "n\n",
      "g\n"
     ]
    }
   ],
   "source": [
    "for char in season:\n",
    "    print(char)"
   ]
  },
  {
   "cell_type": "code",
   "execution_count": 42,
   "metadata": {},
   "outputs": [
    {
     "name": "stdout",
     "output_type": "stream",
     "text": [
      "w\n",
      "i\n",
      "n\n",
      "t\n",
      "e\n",
      "r\n",
      " \n",
      "i\n",
      "s\n",
      " \n",
      "c\n",
      "o\n",
      "m\n",
      "i\n",
      "n\n",
      "g\n"
     ]
    }
   ],
   "source": [
    "i=0\n",
    "while(i < length):\n",
    "    print (season [i])\n",
    "    i+=1"
   ]
  },
  {
   "cell_type": "code",
   "execution_count": 43,
   "metadata": {},
   "outputs": [
    {
     "name": "stdout",
     "output_type": "stream",
     "text": [
      "CSE366\n",
      "Lab\n",
      "Time\n"
     ]
    }
   ],
   "source": [
    "s1 = \"CSE366 Lab Time\"\n",
    "for x in s1.split():\n",
    "    print (x)"
   ]
  },
  {
   "cell_type": "markdown",
   "metadata": {},
   "source": [
    "# String Slices"
   ]
  },
  {
   "cell_type": "code",
   "execution_count": 47,
   "metadata": {},
   "outputs": [
    {
     "name": "stdout",
     "output_type": "stream",
     "text": [
      "winter\n",
      " is coming\n"
     ]
    }
   ],
   "source": [
    "print(season [:6])\n",
    "print(season [6:])"
   ]
  },
  {
   "cell_type": "code",
   "execution_count": 51,
   "metadata": {},
   "outputs": [
    {
     "name": "stdout",
     "output_type": "stream",
     "text": [
      "16\n"
     ]
    }
   ],
   "source": [
    "counter = 0\n",
    "for x in season:\n",
    "      counter +=1\n",
    "print(counter)"
   ]
  },
  {
   "cell_type": "markdown",
   "metadata": {},
   "source": [
    "#"
   ]
  },
  {
   "cell_type": "code",
   "execution_count": 52,
   "metadata": {},
   "outputs": [
    {
     "data": {
      "text/plain": [
       "'WINTER IS COMING'"
      ]
     },
     "execution_count": 52,
     "metadata": {},
     "output_type": "execute_result"
    }
   ],
   "source": [
    "new = season.upper()\n",
    "new"
   ]
  },
  {
   "cell_type": "code",
   "execution_count": 53,
   "metadata": {},
   "outputs": [
    {
     "name": "stdout",
     "output_type": "stream",
     "text": [
      " BD beat Aus\n"
     ]
    }
   ],
   "source": [
    "cricket = ' BD beat Aus'\n",
    "cricket.strip()\n",
    "print(cricket)"
   ]
  },
  {
   "cell_type": "code",
   "execution_count": 57,
   "metadata": {},
   "outputs": [
    {
     "data": {
      "text/plain": [
       "[12, 10, 20, 30]"
      ]
     },
     "execution_count": 57,
     "metadata": {},
     "output_type": "execute_result"
    }
   ],
   "source": [
    "a=[12,10,20,30]\n",
    "a"
   ]
  },
  {
   "cell_type": "code",
   "execution_count": 56,
   "metadata": {},
   "outputs": [
    {
     "data": {
      "text/plain": [
       "list"
      ]
     },
     "execution_count": 56,
     "metadata": {},
     "output_type": "execute_result"
    }
   ],
   "source": [
    "type(a)"
   ]
  },
  {
   "cell_type": "code",
   "execution_count": 58,
   "metadata": {},
   "outputs": [
    {
     "data": {
      "text/plain": [
       "[12, 10, '50', 30]"
      ]
     },
     "execution_count": 58,
     "metadata": {},
     "output_type": "execute_result"
    }
   ],
   "source": [
    "a[2]='50'\n",
    "a"
   ]
  },
  {
   "cell_type": "code",
   "execution_count": 59,
   "metadata": {},
   "outputs": [
    {
     "data": {
      "text/plain": [
       "['Rahat', 'Shamim', 'Arif', 10, 20, 30]"
      ]
     },
     "execution_count": 59,
     "metadata": {},
     "output_type": "execute_result"
    }
   ],
   "source": [
    "mixed = ['Rahat', 'Shamim', \"Arif\",10,20,30]\n",
    "mixed"
   ]
  },
  {
   "cell_type": "code",
   "execution_count": 60,
   "metadata": {},
   "outputs": [
    {
     "data": {
      "text/plain": [
       "['Arif', 'Sagor', [10, 20, 30], 'EWU', 'AUST', 'BUET', 'DU']"
      ]
     },
     "execution_count": 60,
     "metadata": {},
     "output_type": "execute_result"
    }
   ],
   "source": [
    "nested = ['Arif','Sagor',[10,20,30],'EWU','AUST','BUET','DU']\n",
    "nested"
   ]
  },
  {
   "cell_type": "code",
   "execution_count": 63,
   "metadata": {},
   "outputs": [
    {
     "name": "stdout",
     "output_type": "stream",
     "text": [
      "['Arif', 'Sagor', [10, 20, 30], 'EWU', 'AUST', 'BUET', 'DU']\n",
      "['Arif', 'Sagor', [10, 20, 30], 'EWU', 'AUST', 'BUET', 'DU']\n",
      "['Arif', 'Sagor', [10, 20, 30], 'EWU', 'AUST', 'BUET', 'DU']\n",
      "['Arif', 'Sagor', [10, 20, 30], 'EWU', 'AUST', 'BUET', 'DU']\n",
      "['Arif', 'Sagor', [10, 20, 30], 'EWU', 'AUST', 'BUET', 'DU']\n",
      "['Arif', 'Sagor', [10, 20, 30], 'EWU', 'AUST', 'BUET', 'DU']\n",
      "['Arif', 'Sagor', [10, 20, 30], 'EWU', 'AUST', 'BUET', 'DU']\n"
     ]
    }
   ],
   "source": [
    "for i in nested:\n",
    "    print(nested)"
   ]
  },
  {
   "cell_type": "markdown",
   "metadata": {},
   "source": [
    "# if_else"
   ]
  },
  {
   "cell_type": "code",
   "execution_count": null,
   "metadata": {},
   "outputs": [],
   "source": [
    "if case condition:\n",
    "    print\n",
    "elif condition:\n",
    "    action\n",
    "else:\n",
    "    "
   ]
  },
  {
   "cell_type": "code",
   "execution_count": 66,
   "metadata": {},
   "outputs": [
    {
     "name": "stdout",
     "output_type": "stream",
     "text": [
      "The mornig was very charming\n"
     ]
    }
   ],
   "source": [
    "if True:\n",
    "    print(\"The mornig was very charming\")"
   ]
  },
  {
   "cell_type": "code",
   "execution_count": 68,
   "metadata": {},
   "outputs": [
    {
     "name": "stdout",
     "output_type": "stream",
     "text": [
      "a: was not true\n"
     ]
    }
   ],
   "source": [
    "a= False\n",
    "if a:\n",
    "    print ('a: was true')\n",
    "else:\n",
    "    print('a: was not true')"
   ]
  },
  {
   "cell_type": "code",
   "execution_count": 71,
   "metadata": {},
   "outputs": [
    {
     "name": "stdout",
     "output_type": "stream",
     "text": [
      "Welcome to the bank\n"
     ]
    }
   ],
   "source": [
    "loc = 'Bank'\n",
    "if loc == 'Auto shop':\n",
    "    print('Welcome to the Auto shop')\n",
    "elif loc =='Bank':\n",
    "    print('Welcome to the bank')\n",
    "else:\n",
    "    print('Where are you?')"
   ]
  },
  {
   "cell_type": "code",
   "execution_count": 72,
   "metadata": {},
   "outputs": [
    {
     "data": {
      "text/plain": [
       "tuple"
      ]
     },
     "execution_count": 72,
     "metadata": {},
     "output_type": "execute_result"
    }
   ],
   "source": [
    "x=(1,2)\n",
    "type(x)"
   ]
  },
  {
   "cell_type": "code",
   "execution_count": 76,
   "metadata": {},
   "outputs": [],
   "source": [
    "numbers = (10,20,30)\n",
    "x, y, z = numbers"
   ]
  },
  {
   "cell_type": "code",
   "execution_count": 77,
   "metadata": {},
   "outputs": [
    {
     "name": "stdout",
     "output_type": "stream",
     "text": [
      "10 20 30\n"
     ]
    }
   ],
   "source": [
    "print(x,y,z)"
   ]
  },
  {
   "cell_type": "markdown",
   "metadata": {},
   "source": [
    "# Dictionary"
   ]
  },
  {
   "cell_type": "code",
   "execution_count": 78,
   "metadata": {},
   "outputs": [
    {
     "data": {
      "text/plain": [
       "{'EWU': 'Dhaka', 'RU': 'Rajshahi', 'CU': 'Chottogram'}"
      ]
     },
     "execution_count": 78,
     "metadata": {},
     "output_type": "execute_result"
    }
   ],
   "source": [
    "dictionary = {'EWU':'Dhaka','RU':'Rajshahi','CU':'Chottogram'}\n",
    "dictionary"
   ]
  },
  {
   "cell_type": "code",
   "execution_count": 81,
   "metadata": {
    "scrolled": true
   },
   "outputs": [
    {
     "data": {
      "text/plain": [
       "'Dhaka'"
      ]
     },
     "execution_count": 81,
     "metadata": {},
     "output_type": "execute_result"
    }
   ],
   "source": [
    "dictionary['EWU']"
   ]
  },
  {
   "cell_type": "markdown",
   "metadata": {},
   "source": [
    "# set"
   ]
  },
  {
   "cell_type": "code",
   "execution_count": 83,
   "metadata": {},
   "outputs": [
    {
     "data": {
      "text/plain": [
       "{'b'}"
      ]
     },
     "execution_count": 83,
     "metadata": {},
     "output_type": "execute_result"
    }
   ],
   "source": [
    "s={'a','b'}\n",
    "s1= {'b','c'}\n",
    "s.intersection(s1) ## Set unordered  collections. Set does not allow duplicate element."
   ]
  },
  {
   "cell_type": "markdown",
   "metadata": {},
   "source": [
    "# Exercises"
   ]
  },
  {
   "cell_type": "markdown",
   "id": "12afae63",
   "metadata": {},
   "source": [
    "# CSE366 Lab 2 Exercises"
   ]
  },
  {
   "cell_type": "markdown",
   "id": "9629bf04",
   "metadata": {},
   "source": [
    "## exercise 1\n",
    "Write a program in Python to find the root of a quadratice\n",
    "equation."
   ]
  },
  {
   "cell_type": "code",
   "execution_count": 1,
   "id": "d64e7804",
   "metadata": {},
   "outputs": [
    {
     "name": "stdout",
     "output_type": "stream",
     "text": [
      "Number of roots is 2 : X1:  -1.3333333333333333  X2 -2.0\n"
     ]
    }
   ],
   "source": [
    "#quadratic equation ax**2 + bx + c = 0\n",
    "\n",
    "from math import sqrt\n",
    "a=3\n",
    "b=10\n",
    "c=8\n",
    "r = b**2 - 4*a*c\n",
    "\n",
    "#when number of roots 2\n",
    "if r > 0:\n",
    "    root1 = (((-b) + sqrt(r))/(2*a))     \n",
    "    root2 = (((-b) - sqrt(r))/(2*a))\n",
    "    print(\"Number of roots is 2 :\",\"X1: \",root1,\" X2\",root2)\n",
    "#when number of roots 1\n",
    "elif r == 0:\n",
    "    root = (-b) / 2*a\n",
    "    print(\"Root: \", root)\n",
    "#when number of roots 0\n",
    "else:\n",
    "    print(\"No roots\")"
   ]
  },
  {
   "cell_type": "markdown",
   "id": "741adc3a",
   "metadata": {},
   "source": [
    "## exercise 2\n",
    "Write code to perform grade computation"
   ]
  },
  {
   "cell_type": "code",
   "execution_count": 2,
   "id": "e2ad4611",
   "metadata": {},
   "outputs": [
    {
     "name": "stdout",
     "output_type": "stream",
     "text": [
      " You have obtained Grade A = 4.00 \n"
     ]
    }
   ],
   "source": [
    "Numerical_Scores= 96\n",
    "if (97 <= Numerical_Scores <= 100):\n",
    "    print(\" You have obtained Grade A+ = 4.00 \")\n",
    "elif  (90 <= Numerical_Scores < 97):\n",
    "    print(\" You have obtained Grade A = 4.00 \")        \n",
    "elif  (87 <= Numerical_Scores < 90):\n",
    "    print(\" You have obtained Grade A- = 3.70 \")         \n",
    "elif  (83 <= Numerical_Scores < 87):\n",
    "    print(\" You have obtained Grade B+ = 3.30 \")          \n",
    "elif  (80 <= Numerical_Scores < 83):            \n",
    "    print(\" You have obtained Grade B = 3.00 \")           \n",
    "elif  (77 <= Numerical_Scores < 80):           \n",
    "    print(\" You have obtained Grade B- = 2.70 \")            \n",
    "elif  (73 <= Numerical_Scores < 77):\n",
    "    print(\" You have obtained Grade C = 2.00 \")           \n",
    "elif  (67 <= Numerical_Scores < 70):\n",
    "    print(\" You have obtained Grade C- = 1.70 \")\n",
    "elif (63 <= Numerical_Scores < 67):\n",
    "    print(\" You have obtained Grade D+ = 1.30 \")\n",
    "elif  (60 <= Numerical_Scores < 63):\n",
    "    print(\" You have obtained Grade D = 1.00 \")\n",
    "elif ( 0 <= Numerical_Scores < 60):\n",
    "    print(\" You have obtained Grade F = 0.00 \")\n",
    "else :\n",
    "    print('Invalid Numerical Scores')\n"
   ]
  },
  {
   "cell_type": "markdown",
   "id": "3a5a5cfe",
   "metadata": {},
   "source": [
    "## exercise 3\n",
    "Given two numeric lists or tuples x_vals and y_vals of equal\n",
    "length, compute their inner product uzing zip(). Additionally count\n",
    "the number of even number in 0 to 99. Furthermore given pairs =\n",
    "((4, 5), (6,7), (8,9)) count the number of pairs (x,y) such that a and b\n",
    "are odd."
   ]
  },
  {
   "cell_type": "markdown",
   "id": "89188200",
   "metadata": {},
   "source": [
    "### part1"
   ]
  },
  {
   "cell_type": "code",
   "execution_count": 3,
   "id": "b54f9d44",
   "metadata": {},
   "outputs": [
    {
     "name": "stdout",
     "output_type": "stream",
     "text": [
      "27\n"
     ]
    }
   ],
   "source": [
    "x_vals = [0, 9, 3]\n",
    "y_vals = [9, 3, 0]\n",
    "inner_product=0\n",
    "for x, y in zip(x_vals, y_vals):\n",
    "    inner_product += x*y\n",
    "print(inner_product)"
   ]
  },
  {
   "cell_type": "markdown",
   "id": "f8c4559a",
   "metadata": {},
   "source": [
    "### part2"
   ]
  },
  {
   "cell_type": "code",
   "execution_count": 4,
   "id": "279c550f",
   "metadata": {},
   "outputs": [
    {
     "name": "stdout",
     "output_type": "stream",
     "text": [
      "50\n"
     ]
    }
   ],
   "source": [
    "count =0\n",
    "for i in range(0,99):\n",
    "    if i%2 == 0:\n",
    "        count+=1\n",
    "print(count)"
   ]
  },
  {
   "cell_type": "markdown",
   "id": "afe0bd0f",
   "metadata": {},
   "source": [
    "### part3"
   ]
  },
  {
   "cell_type": "code",
   "execution_count": 5,
   "id": "644a6249",
   "metadata": {},
   "outputs": [
    {
     "name": "stdout",
     "output_type": "stream",
     "text": [
      "0\n"
     ]
    }
   ],
   "source": [
    "pairs = ((4, 5), (6, 7), (9, 8))\n",
    "count =0\n",
    "for x, y in pairs:    \n",
    "    if (x % 2 != 0 and y % 2 != 0) :\n",
    "        count+=1\n",
    "        print(x,\" \",y) #print(x,\" \",y)\n",
    "print(count)"
   ]
  },
  {
   "cell_type": "code",
   "execution_count": null,
   "metadata": {},
   "outputs": [],
   "source": [
    "# CSE366 Lab 2 Exercises\n",
    "\n",
    "## exercise 1\n",
    "Write a program in Python to find the root of a quadratice\n",
    "equation.\n",
    "\n",
    "#quadratic equation ax**2 + bx + c = 0\n",
    "\n",
    "from math import sqrt\n",
    "a=3\n",
    "b=10\n",
    "c=8\n",
    "r = b**2 - 4*a*c\n",
    "\n",
    "#when number of roots 2\n",
    "if r > 0:\n",
    "    root1 = (((-b) + sqrt(r))/(2*a))     \n",
    "    root2 = (((-b) - sqrt(r))/(2*a))\n",
    "    print(\"Number of roots is 2 :\",\"X1: \",root1,\" X2\",root2)\n",
    "#when number of roots 1\n",
    "elif r == 0:\n",
    "    root = (-b) / 2*a\n",
    "    print(\"Root: \", root)\n",
    "#when number of roots 0\n",
    "else:\n",
    "    print(\"No roots\")\n",
    "\n",
    "## exercise 2\n",
    "Write code to perform grade computation\n",
    "\n",
    "Numerical_Scores= 96\n",
    "if (97 <= Numerical_Scores <= 100):\n",
    "    print(\" You have obtained Grade A+ = 4.00 \")\n",
    "elif  (90 <= Numerical_Scores < 97):\n",
    "    print(\" You have obtained Grade A = 4.00 \")        \n",
    "elif  (87 <= Numerical_Scores < 90):\n",
    "    print(\" You have obtained Grade A- = 3.70 \")         \n",
    "elif  (83 <= Numerical_Scores < 87):\n",
    "    print(\" You have obtained Grade B+ = 3.30 \")          \n",
    "elif  (80 <= Numerical_Scores < 83):            \n",
    "    print(\" You have obtained Grade B = 3.00 \")           \n",
    "elif  (77 <= Numerical_Scores < 80):           \n",
    "    print(\" You have obtained Grade B- = 2.70 \")            \n",
    "elif  (73 <= Numerical_Scores < 77):\n",
    "    print(\" You have obtained Grade C = 2.00 \")           \n",
    "elif  (67 <= Numerical_Scores < 70):\n",
    "    print(\" You have obtained Grade C- = 1.70 \")\n",
    "elif (63 <= Numerical_Scores < 67):\n",
    "    print(\" You have obtained Grade D+ = 1.30 \")\n",
    "elif  (60 <= Numerical_Scores < 63):\n",
    "    print(\" You have obtained Grade D = 1.00 \")\n",
    "elif ( 0 <= Numerical_Scores < 60):\n",
    "    print(\" You have obtained Grade F = 0.00 \")\n",
    "else :\n",
    "    print('Invalid Numerical Scores')\n",
    "\n",
    "\n",
    "## exercise 3\n",
    "Given two numeric lists or tuples x_vals and y_vals of equal\n",
    "length, compute their inner product uzing zip(). Additionally count\n",
    "the number of even number in 0 to 99. Furthermore given pairs =\n",
    "((4, 5), (6,7), (8,9)) count the number of pairs (x,y) such that a and b\n",
    "are odd.\n",
    "\n",
    "### part1\n",
    "\n",
    "x_vals = [0, 9, 3]\n",
    "y_vals = [9, 3, 0]\n",
    "inner_product=0\n",
    "for x, y in zip(x_vals, y_vals):\n",
    "    inner_product += x*y\n",
    "print(inner_product)\n",
    "\n",
    "### part2\n",
    "\n",
    "count =0\n",
    "for i in range(0,99):\n",
    "    if i%2 == 0:\n",
    "        count+=1\n",
    "print(count)\n",
    "\n",
    "### part3\n",
    "\n",
    "pairs = ((4, 5), (6, 7), (9, 8))\n",
    "count =0\n",
    "for x, y in pairs:    \n",
    "    if (x % 2 != 0 and y % 2 != 0) :\n",
    "        count+=1\n",
    "        print(x,\" \",y) #print(x,\" \",y)\n",
    "print(count)"
   ]
  },
  {
   "cell_type": "code",
   "execution_count": null,
   "metadata": {},
   "outputs": [],
   "source": []
  },
  {
   "cell_type": "code",
   "execution_count": null,
   "metadata": {},
   "outputs": [],
   "source": []
  },
  {
   "cell_type": "code",
   "execution_count": null,
   "metadata": {},
   "outputs": [],
   "source": []
  },
  {
   "cell_type": "code",
   "execution_count": null,
   "metadata": {},
   "outputs": [],
   "source": []
  },
  {
   "cell_type": "code",
   "execution_count": null,
   "metadata": {},
   "outputs": [],
   "source": []
  },
  {
   "cell_type": "code",
   "execution_count": null,
   "metadata": {},
   "outputs": [],
   "source": []
  }
 ],
 "metadata": {
  "kernelspec": {
   "display_name": "Python 3",
   "language": "python",
   "name": "python3"
  },
  "language_info": {
   "codemirror_mode": {
    "name": "ipython",
    "version": 3
   },
   "file_extension": ".py",
   "mimetype": "text/x-python",
   "name": "python",
   "nbconvert_exporter": "python",
   "pygments_lexer": "ipython3",
   "version": "3.8.8"
  }
 },
 "nbformat": 4,
 "nbformat_minor": 4
}
