{
 "cells": [
  {
   "cell_type": "markdown",
   "id": "d45c36c1",
   "metadata": {},
   "source": [
    "# 100+ Python challenging programming exercises"
   ]
  },
  {
   "cell_type": "markdown",
   "id": "9a489d0c",
   "metadata": {},
   "source": [
    "### Question 1\n",
    "### Level 1\n",
    "Question:\n",
    "Write a program which will find all such numbers which are divisible by 7 but are not a multiple of 5,\n",
    "between 2000 and 3200 (both included).\n",
    "The numbers obtained should be printed in a comma-separated sequence on a single line.\n",
    "\n",
    "Hints: \n",
    "Consider use range(#begin, #end) method"
   ]
  },
  {
   "cell_type": "code",
   "execution_count": 1,
   "id": "d9ab9493",
   "metadata": {},
   "outputs": [
    {
     "name": "stdout",
     "output_type": "stream",
     "text": [
      "Total number:  138 \n",
      " [2002, 2009, 2016, 2023, 2037, 2044, 2051, 2058, 2072, 2079, 2086, 2093, 2107, 2114, 2121, 2128, 2142, 2149, 2156, 2163, 2177, 2184, 2191, 2198, 2212, 2219, 2226, 2233, 2247, 2254, 2261, 2268, 2282, 2289, 2296, 2303, 2317, 2324, 2331, 2338, 2352, 2359, 2366, 2373, 2387, 2394, 2401, 2408, 2422, 2429, 2436, 2443, 2457, 2464, 2471, 2478, 2492, 2499, 2506, 2513, 2527, 2534, 2541, 2548, 2562, 2569, 2576, 2583, 2597, 2604, 2611, 2618, 2632, 2639, 2646, 2653, 2667, 2674, 2681, 2688, 2702, 2709, 2716, 2723, 2737, 2744, 2751, 2758, 2772, 2779, 2786, 2793, 2807, 2814, 2821, 2828, 2842, 2849, 2856, 2863, 2877, 2884, 2891, 2898, 2912, 2919, 2926, 2933, 2947, 2954, 2961, 2968, 2982, 2989, 2996, 3003, 3017, 3024, 3031, 3038, 3052, 3059, 3066, 3073, 3087, 3094, 3101, 3108, 3122, 3129, 3136, 3143, 3157, 3164, 3171, 3178, 3192, 3199]\n"
     ]
    }
   ],
   "source": [
    "list = []\n",
    "c=0\n",
    "for x in range(1999,3201):\n",
    "    if (x%7==0 and x%5!=0):\n",
    "        c +=1\n",
    "        list.append(x)\n",
    "        \n",
    "print( \"Total number: \",c,\"\\n\",list) \n",
    "\n",
    "        \n",
    "        \n",
    "  "
   ]
  },
  {
   "cell_type": "markdown",
   "id": "0a6fd2b2",
   "metadata": {},
   "source": [
    "### Question 2\n",
    "### Level 1\n",
    "Question:\n",
    "Write a program which can compute the factorial of a given numbers.\n",
    "The results should be printed in a comma-separated sequence on a single line.\n",
    "Suppose the following input is supplied to the program:\n",
    "8\n",
    "Then, the output should be:\n",
    "40320\n",
    "\n",
    "Hints:\n",
    "In case of input data being supplied to the question, it should be assumed to be a console input."
   ]
  },
  {
   "cell_type": "code",
   "execution_count": 2,
   "id": "9d128b05",
   "metadata": {},
   "outputs": [
    {
     "name": "stdout",
     "output_type": "stream",
     "text": [
      "Enter the Number:\n",
      "8\n",
      "40320\n"
     ]
    }
   ],
   "source": [
    "def fact(x):\n",
    "    if x == 0:\n",
    "        return 1\n",
    "    return (x * fact(x - 1))\n",
    "\n",
    "print(\"Enter the Number:\")\n",
    "x=int(input())\n",
    "print(fact(x))"
   ]
  },
  {
   "cell_type": "markdown",
   "id": "1662db2c",
   "metadata": {},
   "source": [
    "### Question 3\n",
    "### Level 1\n",
    "Question:\n",
    "With a given integral number n, write a program to generate a dictionary that contains (i, i*i) such that is an integral number between 1 and n (both included). and then the program should print the dictionary.\n",
    "Suppose the following input is supplied to the program:\n",
    "8\n",
    "Then, the output should be:\n",
    "{1: 1, 2: 4, 3: 9, 4: 16, 5: 25, 6: 36, 7: 49, 8: 64}\n",
    "\n",
    "Hints:\n",
    "In case of input data being supplied to the question, it should be assumed to be a console input.\n",
    "Consider use dict()"
   ]
  },
  {
   "cell_type": "code",
   "execution_count": 3,
   "id": "f23ff91e",
   "metadata": {},
   "outputs": [
    {
     "name": "stdout",
     "output_type": "stream",
     "text": [
      "Enter the Number:\n",
      "8\n",
      "{1: 1, 2: 4, 3: 9, 4: 16, 5: 25, 6: 36, 7: 49, 8: 64}\n"
     ]
    }
   ],
   "source": [
    "print(\"Enter the Number:\")\n",
    "n=int(input())\n",
    "d=dict()\n",
    "for i in range(1,n+1):\n",
    "    d[i] = i*i\n",
    "\n",
    "print(d)"
   ]
  },
  {
   "cell_type": "markdown",
   "id": "c9f131c7",
   "metadata": {},
   "source": [
    "## Question 4\n",
    "### Level 1\n",
    "\n",
    "Question:\n",
    "Write a program which accepts a sequence of comma-separated numbers from console and generate a list and a tuple which contains every number.\n",
    "Suppose the following input is supplied to the program:\n",
    "34,67,55,33,12,98\n",
    "Then, the output should be:\n",
    "['34', '67', '55', '33', '12', '98']\n",
    "('34', '67', '55', '33', '12', '98')\n",
    "\n",
    "Hints:\n",
    "In case of input data being supplied to the question, it should be assumed to be a console input.\n",
    "tuple() method can convert list to tuple\n"
   ]
  },
  {
   "cell_type": "code",
   "execution_count": 4,
   "id": "d3f835f0",
   "metadata": {},
   "outputs": [
    {
     "name": "stdout",
     "output_type": "stream",
     "text": [
      " 34,67,55,33,12,98\n",
      "List: [' 34', '67', '55', '33', '12', '98'] \n",
      " Tuple: [' 34', '67', '55', '33', '12', '98']\n"
     ]
    }
   ],
   "source": [
    "sequence = input()\n",
    "list = sequence.split(\",\")\n",
    "tuple = list\n",
    "print(\"List:\",list,\"\\n\",\"Tuple:\", tuple)"
   ]
  },
  {
   "cell_type": "markdown",
   "id": "df531583",
   "metadata": {},
   "source": [
    "## Question 5\n",
    "### Level 1\n",
    "\n",
    "Question:\n",
    "Define a class which has at least two methods:\n",
    "getString: to get a string from console input\n",
    "printString: to print the string in upper case.\n",
    "Also please include simple test function to test the class methods.\n",
    "\n",
    "Hints:\n",
    "Use __init__ method to construct some parameters"
   ]
  },
  {
   "cell_type": "code",
   "execution_count": 5,
   "id": "52f8637e",
   "metadata": {},
   "outputs": [
    {
     "name": "stdout",
     "output_type": "stream",
     "text": [
      "hello!\n",
      "HELLO!\n"
     ]
    }
   ],
   "source": [
    "class Input_Print_String(object):\n",
    "    def __init__(self):\n",
    "        self.string = \"\"\n",
    "    def getString(self):\n",
    "        self.string = input()\n",
    "    def printString(self):\n",
    "        print(self.string.upper())\n",
    "\n",
    "strObject = Input_Print_String()\n",
    "strObject.getString()\n",
    "strObject.printString()\n"
   ]
  },
  {
   "cell_type": "markdown",
   "id": "b2a9e78c",
   "metadata": {},
   "source": [
    "## Question 6\n",
    "### Level 2\n",
    "\n",
    "Question:\n",
    "Write a program that calculates and prints the value according to the given formula:\n",
    "Q = Square root of [(2 * C * D)/H]\n",
    "Following are the fixed values of C and H:\n",
    "C is 50. H is 30.\n",
    "D is the variable whose values should be input to your program in a comma-separated sequence.\n",
    "Example\n",
    "Let us assume the following comma separated input sequence is given to the program:\n",
    "100,150,180\n",
    "The output of the program should be:\n",
    "18,22,24\n",
    "\n",
    "Hints:\n",
    "If the output received is in decimal form, it should be rounded off to its nearest value (for example, if the output received is 26.0, it should be printed as 26)\n",
    "In case of input data being supplied to the question, it should be assumed to be a console input. \n"
   ]
  },
  {
   "cell_type": "code",
   "execution_count": 1,
   "id": "de57db27",
   "metadata": {},
   "outputs": [
    {
     "name": "stdout",
     "output_type": "stream",
     "text": [
      "100,150,180\n",
      "list:  ['100', '150', '180']\n",
      "18,22,24\n"
     ]
    }
   ],
   "source": [
    "import math\n",
    "c = 50\n",
    "h = 30\n",
    "value = []\n",
    "items = []\n",
    "input_items = input()\n",
    "input_items = input_items.split(',')\n",
    "\n",
    "\n",
    "for x in input_items:\n",
    "    items.append(x)\n",
    "\n",
    "print(\"list: \",items)\n",
    "for d in items:\n",
    "    value.append(str(int(round(math.sqrt(2*c*float(d)/h)))))\n",
    "\n",
    "print(','.join(value))"
   ]
  },
  {
   "cell_type": "markdown",
   "id": "f3e9bad0",
   "metadata": {},
   "source": [
    "## Question 7\n",
    "## Level 2\n",
    "\n",
    "Question:\n",
    "Write a program which takes 2 digits, X,Y as input and generates a 2-dimensional array. The element value in the i-th row and j-th column of the array should be i*j.\n",
    "Note: i=0,1.., X-1; j=0,1,¡­Y-1.\n",
    "Example\n",
    "Suppose the following inputs are given to the program:\n",
    "3,5\n",
    "Then, the output of the program should be:\n",
    "[[0, 0, 0, 0, 0], [0, 1, 2, 3, 4], [0, 2, 4, 6, 8]] \n",
    "\n",
    "Hints:\n",
    "Note: In case of input data being supplied to the question, it should be assumed to be a console input in a comma-separated form.\n"
   ]
  },
  {
   "cell_type": "code",
   "execution_count": 17,
   "id": "19ebec3b",
   "metadata": {},
   "outputs": [
    {
     "name": "stdout",
     "output_type": "stream",
     "text": [
      "3,5\n",
      "[[0, 0, 0, 0, 0], [0, 1, 2, 3, 4], [0, 2, 4, 6, 8]]\n"
     ]
    }
   ],
   "source": [
    "input_str = input()\n",
    "dimensions=[int(x) for x in input_str.split(',')]\n",
    "rowNum=dimensions[0]\n",
    "colNum=dimensions[1]\n",
    "multilist = [[0 for col in range(colNum)] for row in range(rowNum)]\n",
    "\n",
    "for row in range(rowNum):\n",
    "    for col in range(colNum):\n",
    "        multilist[row][col]= row*col\n",
    "\n",
    "print(multilist)\n"
   ]
  },
  {
   "cell_type": "markdown",
   "id": "441b1a1b",
   "metadata": {},
   "source": [
    "## Question 8\n",
    "## Level 2\n",
    "\n",
    "Question:\n",
    "Write a program that accepts a comma separated sequence of words as input and prints the words in a comma-separated sequence after sorting them alphabetically.\n",
    "Suppose the following input is supplied to the program:\n",
    "without,hello,bag,world\n",
    "Then, the output should be:\n",
    "bag,hello,without,world\n",
    "\n",
    "Hints:\n",
    "In case of input data being supplied to the question, it should be assumed to be a console input."
   ]
  },
  {
   "cell_type": "code",
   "execution_count": 2,
   "id": "a30d293d",
   "metadata": {},
   "outputs": [
    {
     "name": "stdout",
     "output_type": "stream",
     "text": [
      "34,67,55,33,12,98\n",
      "12,33,34,55,67,98\n"
     ]
    }
   ],
   "source": [
    "items=[x for x in input().split(',')]\n",
    "items.sort()\n",
    "print(','.join(items))"
   ]
  },
  {
   "cell_type": "markdown",
   "id": "fce3d3c0",
   "metadata": {},
   "source": [
    "## Question 9\n",
    "### Level 2\n",
    "\n",
    "Question£º\n",
    "Write a program that accepts sequence of lines as input and prints the lines after making all characters in the sentence capitalized.\n",
    "Suppose the following input is supplied to the program:\n",
    "Hello world\n",
    "Practice makes perfect\n",
    "Then, the output should be:\n",
    "HELLO WORLD\n",
    "PRACTICE MAKES PERFECT\n",
    "\n",
    "Hints:\n",
    "In case of input data being supplied to the question, it should be assumed to be a console input.\n"
   ]
  },
  {
   "cell_type": "code",
   "execution_count": 3,
   "id": "2957cb03",
   "metadata": {},
   "outputs": [
    {
     "name": "stdout",
     "output_type": "stream",
     "text": [
      "hello \n",
      "jdfhjk\n",
      "skjdfgkj\n",
      "jdfhgbkj\n",
      "\n",
      "HELLO \n",
      "JDFHJK\n",
      "SKJDFGKJ\n",
      "JDFHGBKJ\n"
     ]
    }
   ],
   "source": [
    "lines = []\n",
    "while True:\n",
    "    s = input()\n",
    "    if s:\n",
    "        lines.append(s.upper())\n",
    "    else:\n",
    "        break;\n",
    "\n",
    "for sentence in lines:\n",
    "    print(sentence)\n"
   ]
  },
  {
   "cell_type": "markdown",
   "id": "ca0c5933",
   "metadata": {},
   "source": [
    "## Question 10\n",
    "### Level 2\n",
    "\n",
    "Question:\n",
    "Write a program that accepts a sequence of whitespace separated words as input and prints the words after removing all duplicate words and sorting them alphanumerically.\n",
    "Suppose the following input is supplied to the program:\n",
    "hello world and practice makes perfect and hello world again\n",
    "Then, the output should be:\n",
    "again and hello makes perfect practice world\n",
    "\n",
    "Hints:\n",
    "In case of input data being supplied to the question, it should be assumed to be a console input.\n",
    "We use set container to remove duplicated data automatically and then use sorted() to sort the data."
   ]
  },
  {
   "cell_type": "code",
   "execution_count": 4,
   "id": "0b672fca",
   "metadata": {},
   "outputs": [
    {
     "name": "stdout",
     "output_type": "stream",
     "text": [
      "hello world and practice makes perfect and hello world again\n",
      "again and hello makes perfect practice world\n"
     ]
    }
   ],
   "source": [
    "input_str = input()\n",
    "words = [word for word in input_str.split(\" \")]\n",
    "print(\" \".join(sorted(list(set(words)))))"
   ]
  },
  {
   "cell_type": "markdown",
   "id": "bb913cda",
   "metadata": {},
   "source": [
    "##  Question 11\n",
    "### Level 2\n",
    "\n",
    "Question:\n",
    "Write a program which accepts a sequence of comma separated 4 digit binary numbers as its input and then check whether they are divisible by 5 or not. The numbers that are divisible by 5 are to be printed in a comma separated sequence.\n",
    "Example:\n",
    "0100,0011,1010,1001\n",
    "Then the output should be:\n",
    "1010\n",
    "Notes: Assume the data is input by console.\n",
    "\n",
    "Hints:\n",
    "In case of input data being supplied to the question, it should be assumed to be a console input.\n"
   ]
  },
  {
   "cell_type": "code",
   "execution_count": 6,
   "id": "62918404",
   "metadata": {},
   "outputs": [
    {
     "name": "stdout",
     "output_type": "stream",
     "text": [
      "0100,0011,1010,1001\n",
      "1010\n"
     ]
    }
   ],
   "source": [
    "value = []\n",
    "items=[inputBinaryDig for inputBinaryDig in input().split(',')]\n",
    "for p in items:\n",
    "    DecNum = int(p, 2)\n",
    "    if not DecNum%5:\n",
    "        value.append(p)\n",
    "\n",
    "print(','.join(value))\n"
   ]
  },
  {
   "cell_type": "markdown",
   "id": "67b8d9f0",
   "metadata": {},
   "source": [
    "## Question 12\n",
    "### Level 2\n",
    "\n",
    "Question:\n",
    "Write a program, which will find all such numbers between 1000 and 3000 (both included) such that each digit of the number is an even number.\n",
    "The numbers obtained should be printed in a comma-separated sequence on a single line.\n",
    "\n",
    "Hints:\n",
    "In case of input data being supplied to the question, it should be assumed to be a console input.\n"
   ]
  },
  {
   "cell_type": "code",
   "execution_count": 47,
   "id": "c13c0e21",
   "metadata": {},
   "outputs": [
    {
     "name": "stdout",
     "output_type": "stream",
     "text": [
      "2000,2002,2004,2006,2008,2020,2022,2024,2026,2028,2040,2042,2044,2046,2048,2060,2062,2064,2066,2068,2080,2082,2084,2086,2088,2200,2202,2204,2206,2208,2220,2222,2224,2226,2228,2240,2242,2244,2246,2248,2260,2262,2264,2266,2268,2280,2282,2284,2286,2288,2400,2402,2404,2406,2408,2420,2422,2424,2426,2428,2440,2442,2444,2446,2448,2460,2462,2464,2466,2468,2480,2482,2484,2486,2488,2600,2602,2604,2606,2608,2620,2622,2624,2626,2628,2640,2642,2644,2646,2648,2660,2662,2664,2666,2668,2680,2682,2684,2686,2688,2800,2802,2804,2806,2808,2820,2822,2824,2826,2828,2840,2842,2844,2846,2848,2860,2862,2864,2866,2868,2880,2882,2884,2886,2888\n"
     ]
    }
   ],
   "source": [
    "values = []\n",
    "\n",
    "def isNumb(number):\n",
    "    flag = True\n",
    "    while(number >=1 ):\n",
    "        temp_var = number%10; #get unit place digit\n",
    "        if temp_var % 2 != 0:\n",
    "            flag = False\n",
    "            break\n",
    "        number = number//10; #remove the units place \n",
    "    return flag\n",
    "\n",
    "    \n",
    "for number in range(999, 3001):\n",
    "    \n",
    "    if isNumb(number):\n",
    "        \n",
    "        values.append(str(number))\n",
    "        \n",
    "print(\",\".join(values))\n"
   ]
  },
  {
   "cell_type": "markdown",
   "id": "6f99cd4c",
   "metadata": {},
   "source": [
    "## Question 13\n",
    "### Level 2\n",
    "\n",
    "Question:\n",
    "Write a program that accepts a sentence and calculate the number of letters and digits.\n",
    "Suppose the following input is supplied to the program:\n",
    "hello world! 123\n",
    "Then, the output should be:\n",
    "LETTERS 10\n",
    "DIGITS 3\n",
    "\n",
    "Hints:\n",
    "In case of input data being supplied to the question, it should be assumed to be a console input.\n"
   ]
  },
  {
   "cell_type": "code",
   "execution_count": 51,
   "id": "a69f38a5",
   "metadata": {},
   "outputs": [
    {
     "name": "stdout",
     "output_type": "stream",
     "text": [
      " hello world! 123\n",
      "LETTERS 10\n",
      "DIGITS 3\n"
     ]
    }
   ],
   "source": [
    "s = input()\n",
    "Count = {\"DIGITS\":0, \"LETTERS\":0}\n",
    "for Count in s:\n",
    "    if s.isdigit():\n",
    "        Count[\"DIGITS\"] += 1\n",
    "    elif s.isalpha():\n",
    "        Count[\"LETTERS\"] += 1\n",
    "    else:\n",
    "        pass\n",
    "    \n",
    "print(\"LETTERS\", d[\"LETTERS\"])\n",
    "print(\"DIGITS\", d[\"DIGITS\"])"
   ]
  },
  {
   "cell_type": "markdown",
   "id": "f5e158d0",
   "metadata": {},
   "source": [
    "## Question 14\n",
    "### Level 2\n",
    "\n",
    "Question:\n",
    "Write a program that accepts a sentence and calculate the number of upper case letters and lower case letters.\n",
    "Suppose the following input is supplied to the program:\n",
    "Hello world!\n",
    "Then, the output should be:\n",
    "UPPER CASE 1\n",
    "LOWER CASE 9\n",
    "\n",
    "Hints:\n",
    "In case of input data being supplied to the question, it should be assumed to be a console input."
   ]
  },
  {
   "cell_type": "code",
   "execution_count": 52,
   "id": "0f23f840",
   "metadata": {},
   "outputs": [
    {
     "name": "stdout",
     "output_type": "stream",
     "text": [
      "Hello world!\n",
      "UPPER CASE 1\n",
      "LOWER CASE 9\n"
     ]
    }
   ],
   "source": [
    "s = input()\n",
    "d={\"UPPER CASE\":0, \"LOWER CASE\":0}\n",
    "for c in s:\n",
    "    if c.isupper():\n",
    "        d[\"UPPER CASE\"]+=1\n",
    "    elif c.islower():\n",
    "        d[\"LOWER CASE\"]+=1\n",
    "    else:\n",
    "        pass\n",
    "print(\"UPPER CASE\", d[\"UPPER CASE\"])\n",
    "print(\"LOWER CASE\", d[\"LOWER CASE\"])\n"
   ]
  },
  {
   "cell_type": "markdown",
   "id": "567d6aed",
   "metadata": {},
   "source": [
    "## Question 15\n",
    "### Level 2\n",
    "\n",
    "Question:\n",
    "Write a program that computes the value of a+aa+aaa+aaaa with a given digit as the value of a.\n",
    "Suppose the following input is supplied to the program:\n",
    "9\n",
    "Then, the output should be:\n",
    "11106\n",
    "\n",
    "Hints:\n",
    "In case of input data being supplied to the question, it should be assumed to be a console input."
   ]
  },
  {
   "cell_type": "code",
   "execution_count": 4,
   "id": "922c1209",
   "metadata": {},
   "outputs": [
    {
     "name": "stdout",
     "output_type": "stream",
     "text": [
      "9\n",
      "11106\n"
     ]
    }
   ],
   "source": [
    "a = input()\n",
    "n1 = int( \"%s\" % a )\n",
    "n2 = int( \"%s%s\" % (a,a) )\n",
    "n3 = int( \"%s%s%s\" % (a,a,a) )\n",
    "n4 = int( \"%s%s%s%s\" % (a,a,a,a) )\n",
    "print(n1+n2+n3+n4)"
   ]
  },
  {
   "cell_type": "markdown",
   "id": "562c996d",
   "metadata": {},
   "source": [
    "## Question 16\n",
    "### Level 2\n",
    "\n",
    "Question:\n",
    "Use a list comprehension to square each odd number in a list. The list is input by a sequence of comma-separated numbers.\n",
    "Suppose the following input is supplied to the program:\n",
    "1,2,3,4,5,6,7,8,9\n",
    "Then, the output should be:\n",
    "1,3,5,7,9\n",
    "\n",
    "Hints:\n",
    "In case of input data being supplied to the question, it should be assumed to be a console input.\n"
   ]
  },
  {
   "cell_type": "code",
   "execution_count": 29,
   "id": "fe4e12ac",
   "metadata": {},
   "outputs": [
    {
     "name": "stdout",
     "output_type": "stream",
     "text": [
      "1,2,3,4,5,6,7,8,9\n",
      "1,3,5,7,9\n"
     ]
    }
   ],
   "source": [
    "values = input()\n",
    "number = []\n",
    "for x in values.split(\",\"):\n",
    "    if int(x)%2!=0:\n",
    "        #print(number)\n",
    "        number.append(x)            \n",
    "print(\",\".join(number))"
   ]
  },
  {
   "cell_type": "markdown",
   "id": "a5bfb16e",
   "metadata": {},
   "source": [
    "## Question 17\n",
    "### Level 2\n",
    "\n",
    "Question:\n",
    "Write a program that computes the net amount of a bank account based a transaction log from console input. The transaction log format is shown as following:\n",
    "D 100\n",
    "W 200\n",
    "\n",
    "D means deposit while W means withdrawal.\n",
    "Suppose the following input is supplied to the program:\n",
    "D 300\n",
    "D 300\n",
    "W 200\n",
    "D 100\n",
    "Then, the output should be:\n",
    "500\n",
    "\n",
    "Hints:\n",
    "In case of input data being supplied to the question, it should be assumed to be a console input."
   ]
  },
  {
   "cell_type": "code",
   "execution_count": 10,
   "id": "014736b6",
   "metadata": {},
   "outputs": [
    {
     "name": "stdout",
     "output_type": "stream",
     "text": [
      "D 300\n",
      "D 300\n",
      "W 200\n",
      "D 100\n",
      "\n",
      "500\n"
     ]
    }
   ],
   "source": [
    "netAmount = 0\n",
    "while True:\n",
    "    s = input()\n",
    "    if not s:\n",
    "        break\n",
    "    values = s.split(\" \")\n",
    "    operation = values[0]\n",
    "    amount = int(values[1])\n",
    "    if operation==\"D\":\n",
    "        netAmount+=amount\n",
    "    elif operation==\"W\":\n",
    "        netAmount-=amount\n",
    "    else:\n",
    "        pass\n",
    "print(netAmount)"
   ]
  },
  {
   "cell_type": "markdown",
   "id": "3c206d2c",
   "metadata": {},
   "source": [
    "## Question 18\n",
    "### Level 3\n",
    "\n",
    "Question:\n",
    "A website requires the users to input username and password to register. Write a program to check the validity of password input by users.\n",
    "Following are the criteria for checking the password:\n",
    "1. At least 1 letter between [a-z]\n",
    "2. At least 1 number between [0-9]\n",
    "1. At least 1 letter between [A-Z]\n",
    "3. At least 1 character from [$#@]\n",
    "4. Minimum length of transaction password: 6\n",
    "5. Maximum length of transaction password: 12\n",
    "Your program should accept a sequence of comma separated passwords and will check them according to the above criteria. Passwords that match the criteria are to be printed, each separated by a comma.\n",
    "Example\n",
    "If the following passwords are given as input to the program:\n",
    "ABd1234@1,a F1#,2w3E*,2We3345\n",
    "Then, the output of the program should be:\n",
    "ABd1234@1\n",
    "\n",
    "Hints:\n",
    "In case of input data being supplied to the question, it should be assumed to be a console input.\n"
   ]
  },
  {
   "cell_type": "code",
   "execution_count": 30,
   "id": "10c1c2bd",
   "metadata": {},
   "outputs": [
    {
     "name": "stdout",
     "output_type": "stream",
     "text": [
      "ABd1234@1,a F1#,2w3E*,2We3345\n",
      "ABd1234@1\n"
     ]
    }
   ],
   "source": [
    "import re\n",
    "value = []\n",
    "items=[x for x in input().split(',')]\n",
    "for p in items:\n",
    "    if len(p)<6 or len(p)>12:\n",
    "        continue\n",
    "    else:\n",
    "        pass\n",
    "    if not re.search(\"[a-z]\",p):\n",
    "        continue\n",
    "    elif not re.search(\"[A-Z]\",p):\n",
    "        continue\n",
    "    elif not re.search(\"[0-9]\",p):\n",
    "        continue\n",
    "    elif not re.search(\"[$#@]\",p):\n",
    "        continue\n",
    "    elif re.search(\"\\s\",p):\n",
    "        continue\n",
    "    else:\n",
    "        pass\n",
    "    value.append(p)\n",
    "print(\",\".join(value))"
   ]
  },
  {
   "cell_type": "markdown",
   "id": "ff8a5d86",
   "metadata": {},
   "source": [
    "## Question 19\n",
    "### Level 3\n",
    "\n",
    "Question:\n",
    "You are required to write a program to sort the (name, age, height) tuples by ascending order where name is string, age and height are numbers. The tuples are input by console. The sort criteria is:\n",
    "1: Sort based on name;\n",
    "2: Then sort based on age;\n",
    "3: Then sort by score.\n",
    "The priority is that name > age > score.\n",
    "If the following tuples are given as input to the program:\n",
    "Tom,19,80\n",
    "John,20,90\n",
    "Jony,17,91\n",
    "Jony,17,93\n",
    "Json,21,85\n",
    "Then, the output of the program should be:\n",
    "[('John', '20', '90'), ('Jony', '17', '91'), ('Jony', '17', '93'), ('Json', '21', '85'), ('Tom', '19', '80')]\n",
    "\n",
    "Hints:\n",
    "In case of input data being supplied to the question, it should be assumed to be a console input.\n",
    "We use itemgetter to enable multiple sort keys."
   ]
  },
  {
   "cell_type": "code",
   "execution_count": 35,
   "id": "f67997a5",
   "metadata": {},
   "outputs": [
    {
     "name": "stdout",
     "output_type": "stream",
     "text": [
      "Tom,19,80\n",
      "John,20,90\n",
      "John,20,82\n",
      "Json,21,85\n",
      "Tom,19,82\n",
      "\n",
      "[('John', '20', '82'), ('John', '20', '90'), ('Json', '21', '85'), ('Tom', '19', '80'), ('Tom', '19', '82')]\n"
     ]
    }
   ],
   "source": [
    "from operator import itemgetter\n",
    "l = []\n",
    "while True:\n",
    "    s = input()\n",
    "    if not s:\n",
    "        break\n",
    "    l.append(tuple(s.split(\",\")))\n",
    "\n",
    "print(sorted(l, key=itemgetter(0,1,2)))"
   ]
  },
  {
   "cell_type": "markdown",
   "id": "4dfd2dff",
   "metadata": {},
   "source": [
    "## Question 20\n",
    "### Level 3\n",
    "\n",
    "Question:\n",
    "Define a class with a generator which can iterate the numbers, which are divisible by 7, between a given range 0 and n.\n",
    "\n",
    "Hints:\n",
    "Consider use yield"
   ]
  },
  {
   "cell_type": "code",
   "execution_count": 44,
   "id": "f22664a8",
   "metadata": {},
   "outputs": [
    {
     "name": "stdout",
     "output_type": "stream",
     "text": [
      "7\n",
      "14\n",
      "21\n",
      "28\n",
      "35\n",
      "42\n",
      "49\n",
      "56\n",
      "63\n",
      "70\n",
      "77\n",
      "84\n",
      "91\n",
      "98\n"
     ]
    }
   ],
   "source": [
    "class findiv:\n",
    "\n",
    "    def generator(n):\n",
    "        list_of = range(1,n+1)\n",
    "        for i in list_of:\n",
    "            if i % 7 == 0:\n",
    "                yield i\n",
    "\n",
    "for i in generator(100):\n",
    "    print (i)"
   ]
  },
  {
   "cell_type": "markdown",
   "id": "89dfbc56",
   "metadata": {},
   "source": [
    "## Question 21\n",
    "### Level 3\n",
    "\n",
    "Question\n",
    "A robot moves in a plane starting from the original point (0,0). The robot can move toward UP, DOWN, LEFT and RIGHT with a given steps. The trace of robot movement is shown as the following:\n",
    "UP 5\n",
    "DOWN 3\n",
    "LEFT 3\n",
    "RIGHT 2\n",
    "¡­\n",
    "The numbers after the direction are steps. Please write a program to compute the distance from current position after a sequence of movement and original point. If the distance is a float, then just print the nearest integer.\n",
    "Example:\n",
    "If the following tuples are given as input to the program:\n",
    "UP 5\n",
    "DOWN 3\n",
    "LEFT 3\n",
    "RIGHT 2\n",
    "Then, the output of the program should be:\n",
    "2\n",
    "\n",
    "Hints:\n",
    "In case of input data being supplied to the question, it should be assumed to be a console input."
   ]
  },
  {
   "cell_type": "code",
   "execution_count": 45,
   "id": "1362f1a4",
   "metadata": {},
   "outputs": [
    {
     "name": "stdout",
     "output_type": "stream",
     "text": [
      "UP 5\n",
      "DOWN 3\n",
      "LEFT 3\n",
      "RIGHT 2 \n",
      "\n",
      "2\n"
     ]
    }
   ],
   "source": [
    "import math\n",
    "pos = [0,0]\n",
    "while True:\n",
    "    s = input()\n",
    "    if not s:\n",
    "        break\n",
    "    movement = s.split(\" \")\n",
    "    direction = movement[0]\n",
    "    steps = int(movement[1])\n",
    "    if direction==\"UP\":\n",
    "        pos[0]+=steps\n",
    "    elif direction==\"DOWN\":\n",
    "        pos[0]-=steps\n",
    "    elif direction==\"LEFT\":\n",
    "        pos[1]-=steps\n",
    "    elif direction==\"RIGHT\":\n",
    "        pos[1]+=steps\n",
    "    else:\n",
    "        pass\n",
    "\n",
    "print(int(round(math.sqrt(pos[1]**2+pos[0]**2))))"
   ]
  },
  {
   "cell_type": "markdown",
   "id": "b33beab8",
   "metadata": {},
   "source": [
    "## Question 22\n",
    "### Level 3\n",
    "\n",
    "Question:\n",
    "Write a program to compute the frequency of the words from the input. The output should output after sorting the key alphanumerically. \n",
    "Suppose the following input is supplied to the program:\n",
    "New to Python or choosing between Python 2 and Python 3? Read Python 2 or Python 3.\n",
    "Then, the output should be:\n",
    "2:2\n",
    "3.:1\n",
    "3?:1\n",
    "New:1\n",
    "Python:5\n",
    "Read:1\n",
    "and:1\n",
    "between:1\n",
    "choosing:1\n",
    "or:2\n",
    "to:1\n",
    "\n",
    "Hints\n",
    "In case of input data being supplied to the question, it should be assumed to be a console input."
   ]
  },
  {
   "cell_type": "code",
   "execution_count": null,
   "id": "edcdd24f",
   "metadata": {},
   "outputs": [],
   "source": [
    "freq = {}\n",
    "line = input()\n",
    "for word in line.split():\n",
    "    freq[word] = freq.get(word,0)+1\n",
    "\n",
    "words = freq.keys()\n",
    "words.sort()\n",
    "\n",
    "for w in words:\n",
    "    print(\"%s:%d\" % (w,freq[w]))"
   ]
  },
  {
   "cell_type": "markdown",
   "id": "7090e20f",
   "metadata": {},
   "source": [
    "## Question 23\n",
    "### level 1\n",
    "\n",
    "Question:\n",
    "Write a method which can calculate square value of number\n",
    "\n",
    "Hints:\n",
    "Using the ** operator\n"
   ]
  },
  {
   "cell_type": "code",
   "execution_count": 3,
   "id": "f461a3f7",
   "metadata": {},
   "outputs": [
    {
     "name": "stdout",
     "output_type": "stream",
     "text": [
      "4\n",
      "25\n"
     ]
    }
   ],
   "source": [
    "def sqr(n):\n",
    "    return n**2\n",
    "\n",
    "print(sqr(2))\n",
    "print(sqr(5))"
   ]
  },
  {
   "cell_type": "markdown",
   "id": "83b93ca0",
   "metadata": {},
   "source": [
    "## Question 24\n",
    "### Level 1\n",
    "\n",
    "Question:\n",
    "\n",
    "Python has many built-in functions, and if you do not know how to use it, you can read document online or find some books. But Python has a built-in document function for every built-in functions.\n",
    "\n",
    "Please write a program to print some Python built-in functions documents, such as abs(), int(), raw_input()\n",
    "\n",
    "And add document for your own function\n",
    "Hints:\n",
    "The built-in document method is __doc__\n"
   ]
  },
  {
   "cell_type": "code",
   "execution_count": 8,
   "id": "3e8de883",
   "metadata": {},
   "outputs": [
    {
     "name": "stdout",
     "output_type": "stream",
     "text": [
      "Return the absolute value of the argument.\n",
      "int([x]) -> integer\n",
      "int(x, base=10) -> integer\n",
      "\n",
      "Convert a number or string to an integer, or return 0 if no arguments\n",
      "are given.  If x is a number, return x.__int__().  For floating point\n",
      "numbers, this truncates towards zero.\n",
      "\n",
      "If x is not a number or if base is given, then x must be a string,\n",
      "bytes, or bytearray instance representing an integer literal in the\n",
      "given base.  The literal can be preceded by '+' or '-' and be surrounded\n",
      "by whitespace.  The base defaults to 10.  Valid bases are 0 and 2-36.\n",
      "Base 0 means to interpret the base from the string as an integer literal.\n",
      ">>> int('0b100', base=0)\n",
      "4\n",
      "Forward raw_input to frontends\n",
      "\n",
      "        Raises\n",
      "        ------\n",
      "        StdinNotImplentedError if active frontend doesn't support stdin.\n",
      "        \n",
      "25\n",
      "Return the square value of the input number.    \n",
      "The input number must be integer.\n",
      "    \n"
     ]
    }
   ],
   "source": [
    "print(abs.__doc__)\n",
    "print(int.__doc__)\n",
    "print(input.__doc__)\n",
    "\n",
    "def sqr(n):\n",
    "    '''Return the square value of the input number.    \n",
    "The input number must be integer.\n",
    "    '''\n",
    "    return n ** 2\n",
    "\n",
    "print(sqr(5))\n",
    "print(sqr.__doc__)"
   ]
  },
  {
   "cell_type": "markdown",
   "id": "d781b19c",
   "metadata": {},
   "source": [
    "## Question 25\n",
    "### Level 1\n",
    "\n",
    "Question:\n",
    "Define a class, which have a class parameter and have a same instance parameter.\n",
    "\n",
    "Hints:\n",
    "Define a instance parameter, need add it in __init__ method\n",
    "You can init a object with construct parameter or set the value later\n"
   ]
  },
  {
   "cell_type": "code",
   "execution_count": 43,
   "id": "73269697",
   "metadata": {},
   "outputs": [
    {
     "name": "stdout",
     "output_type": "stream",
     "text": [
      "Name:  Dipu  Total Mark:  95\n",
      "Name:  Asad  Total Mark:  90\n"
     ]
    }
   ],
   "source": [
    "class student:\n",
    "    Name =''\n",
    "    Mid1_mark = 0\n",
    "    Mid2_mark = 0\n",
    "    Final_mark = 0\n",
    "    \n",
    "    def __init__(self,Name,Mid1_mark,Mid2_mark,Final_mark):\n",
    "        self.Name = Name\n",
    "        self.Mid1_mark = Mid1_mark\n",
    "        self.Mid2_mark = Mid2_mark\n",
    "        self.Final_mark = Final_mark\n",
    "        \n",
    "    def compute_tot_marks(self):\n",
    "        total =  self.Mid1_mark +  self.Mid2_mark +  self.Final_mark\n",
    "        print('Name: ', self.Name,\" Total Mark: \",total)\n",
    "    \n",
    "std1 = student('Dipu',20,20,55)\n",
    "std1.compute_tot_marks()\n",
    "\n",
    "std2 = student('Asad',19,18,53)\n",
    "std2.compute_tot_marks()"
   ]
  },
  {
   "cell_type": "markdown",
   "id": "4a0ab96a",
   "metadata": {},
   "source": [
    "## Question 26:\n",
    "Define a function which can compute the sum of two numbers.\n",
    "\n",
    "Hints:\n",
    "Define a function with two numbers as arguments. You can compute the sum in the function and return the value."
   ]
  },
  {
   "cell_type": "code",
   "execution_count": 45,
   "id": "31b605e8",
   "metadata": {},
   "outputs": [
    {
     "name": "stdout",
     "output_type": "stream",
     "text": [
      "10\n"
     ]
    }
   ],
   "source": [
    "def SumTwoNum(n1, n2):\n",
    "    return n1+n2\n",
    "\n",
    "print(SumTwoNum(5,5))"
   ]
  },
  {
   "cell_type": "markdown",
   "id": "fa2174b0",
   "metadata": {},
   "source": [
    "## Question 27\n",
    "Define a function that can convert a integer into a string and print it in console.\n",
    "\n",
    "Hints:\n",
    "\n",
    "Use str() to convert a number to string."
   ]
  },
  {
   "cell_type": "code",
   "execution_count": 47,
   "id": "26d3c9d4",
   "metadata": {},
   "outputs": [
    {
     "name": "stdout",
     "output_type": "stream",
     "text": [
      "93\n"
     ]
    }
   ],
   "source": [
    "def intTOstring(n):\n",
    "    print(str(n))\n",
    "\n",
    "intTOstring(93)"
   ]
  },
  {
   "cell_type": "markdown",
   "id": "daf40684",
   "metadata": {},
   "source": [
    "## Question 28\n",
    "Define a function that can convert a integer into a string and print it in console.\n",
    "\n",
    "Hints:\n",
    "\n",
    "Use str() to convert a number to string."
   ]
  },
  {
   "cell_type": "code",
   "execution_count": 48,
   "id": "cf5acb2e",
   "metadata": {},
   "outputs": [
    {
     "name": "stdout",
     "output_type": "stream",
     "text": [
      "93\n"
     ]
    }
   ],
   "source": [
    "def intTOstring(n):\n",
    "    print(str(n))\n",
    "\n",
    "intTOstring(93)"
   ]
  },
  {
   "cell_type": "markdown",
   "id": "ef562c8b",
   "metadata": {},
   "source": [
    "## Question 29\n",
    "Define a function that can receive two integral numbers in string form and compute their sum and then print it in console.\n",
    "\n",
    "Hints:\n",
    "\n",
    "Use int() to convert a string to integer."
   ]
  },
  {
   "cell_type": "code",
   "execution_count": 49,
   "id": "33a9788a",
   "metadata": {},
   "outputs": [
    {
     "name": "stdout",
     "output_type": "stream",
     "text": [
      "93\n"
     ]
    }
   ],
   "source": [
    "def addTwoStringInt(s1,s2):\n",
    "    print(int(s1)+int(s2))\n",
    "\n",
    "addTwoStringInt('90','3')"
   ]
  },
  {
   "cell_type": "markdown",
   "id": "cf169300",
   "metadata": {},
   "source": [
    "## Question 30\n",
    "Define a function that can accept two strings as input and concatenate them and then print it in console.\n",
    "\n",
    "Hints:\n",
    "\n",
    "Use + to concatenate the strings"
   ]
  },
  {
   "cell_type": "code",
   "execution_count": 50,
   "id": "ccf9f056",
   "metadata": {},
   "outputs": [
    {
     "name": "stdout",
     "output_type": "stream",
     "text": [
      "93\n"
     ]
    }
   ],
   "source": [
    "def ConcatTwoStr(s1,s2):\n",
    "    print(s1+s2)\n",
    "\n",
    "ConcatTwoStr('9','3')"
   ]
  },
  {
   "cell_type": "markdown",
   "id": "3f94bc15",
   "metadata": {},
   "source": [
    "## Question 31\n",
    "Define a function that can accept two strings as input and print the string with maximum length in console. If two strings have the same length, then the function should print al l strings line by line.\n",
    "\n",
    "Hints:\n",
    "\n",
    "Use len() function to get the length of a string"
   ]
  },
  {
   "cell_type": "code",
   "execution_count": 58,
   "id": "bc021f90",
   "metadata": {},
   "outputs": [
    {
     "name": "stdout",
     "output_type": "stream",
     "text": [
      "Three\n"
     ]
    }
   ],
   "source": [
    "def printStr(s1,s2):\n",
    "    l1 = len(s1)\n",
    "    l2 = len(s2)\n",
    "    if l1>l2:\n",
    "        print(s1)\n",
    "    elif l2>l1:\n",
    "        print(s2)\n",
    "    else:\n",
    "        print(s1, s2)\n",
    "        \n",
    "printStr('Nine',\"Three\")\n"
   ]
  },
  {
   "cell_type": "markdown",
   "id": "952c422e",
   "metadata": {},
   "source": [
    "## Question 32\n",
    "Define a function that can accept an integer number as input and print the \"It is an even number\" if the number is even, otherwise print \"It is an odd number\".\n",
    "\n",
    "Hints:\n",
    "\n",
    "Use % operator to check if a number is even or odd.\n"
   ]
  },
  {
   "cell_type": "code",
   "execution_count": 59,
   "id": "994d5e40",
   "metadata": {},
   "outputs": [
    {
     "name": "stdout",
     "output_type": "stream",
     "text": [
      "It is an even number\n"
     ]
    }
   ],
   "source": [
    "def oddOreven(n):\n",
    "    if n%2 == 0:\n",
    "        print(\"It is an even number\")\n",
    "    else:\n",
    "        print(\"It is an odd number\")\n",
    "        \n",
    "oddOreven(8)"
   ]
  },
  {
   "cell_type": "markdown",
   "id": "afe17515",
   "metadata": {},
   "source": [
    "## Question 33\n",
    "Define a function which can print a dictionary where the keys are numbers between 1 and 3 (both included) and the values are square of keys.\n",
    "\n",
    "Hints:\n",
    "\n",
    "Use dict[key]=value pattern to put entry into a dictionary.\n",
    "Use ** operator to get power of a number."
   ]
  },
  {
   "cell_type": "code",
   "execution_count": 63,
   "id": "7357a4d6",
   "metadata": {},
   "outputs": [
    {
     "name": "stdout",
     "output_type": "stream",
     "text": [
      "{1: 1, 2: 22, 3: 33}\n"
     ]
    }
   ],
   "source": [
    "def printDict():\n",
    "    d=dict()\n",
    "    d[1]=1\n",
    "    d[2]=22\n",
    "    d[3]=33\n",
    "    print(d)\n",
    "\n",
    "printDict()"
   ]
  },
  {
   "cell_type": "markdown",
   "id": "e5994252",
   "metadata": {},
   "source": [
    "## Question 34\n",
    "Define a function which can print a dictionary where the keys are numbers between 1 and 20 (both included) and the values are square of keys.\n",
    "\n",
    "Hints:\n",
    "\n",
    "Use dict[key]=value pattern to put entry into a dictionary.\n",
    "Use ** operator to get power of a number.\n",
    "Use range() for loops.\n"
   ]
  },
  {
   "cell_type": "code",
   "execution_count": 64,
   "id": "69a9605b",
   "metadata": {},
   "outputs": [
    {
     "name": "stdout",
     "output_type": "stream",
     "text": [
      "{1: 1, 2: 4, 3: 9, 4: 16, 5: 25, 6: 36, 7: 49, 8: 64, 9: 81, 10: 100, 11: 121, 12: 144, 13: 169, 14: 196, 15: 225, 16: 256, 17: 289, 18: 324, 19: 361, 20: 400}\n"
     ]
    }
   ],
   "source": [
    "def printDict():\n",
    "    d=dict()\n",
    "    for i in range(1,21):\n",
    "        d[i]=i**2\n",
    "    print(d)\n",
    "\n",
    "printDict()"
   ]
  },
  {
   "cell_type": "markdown",
   "id": "e07847c2",
   "metadata": {},
   "source": [
    "## Question 35\n",
    "Define a function which can generate a dictionary where the keys are numbers between 1 and 20 (both included) and the values are square of keys. The function should just print the values only.\n",
    "\n",
    "Hints:\n",
    "\n",
    "Use dict[key]=value pattern to put entry into a dictionary.\n",
    "Use ** operator to get power of a number.\n",
    "Use range() for loops.\n",
    "Use keys() to iterate keys in the dictionary. Also we can use item() to get key/value pairs."
   ]
  },
  {
   "cell_type": "code",
   "execution_count": 65,
   "id": "685addcf",
   "metadata": {},
   "outputs": [
    {
     "name": "stdout",
     "output_type": "stream",
     "text": [
      "1\n",
      "4\n",
      "9\n",
      "16\n",
      "25\n",
      "36\n",
      "49\n",
      "64\n",
      "81\n",
      "100\n",
      "121\n",
      "144\n",
      "169\n",
      "196\n",
      "225\n",
      "256\n",
      "289\n",
      "324\n",
      "361\n",
      "400\n"
     ]
    }
   ],
   "source": [
    "def printDict():\n",
    "    d=dict()\n",
    "    for i in range(1,21):\n",
    "        d[i]=i**2\n",
    "    for (k,v) in d.items():\t\n",
    "        print(v)\n",
    "\n",
    "printDict()"
   ]
  },
  {
   "cell_type": "markdown",
   "id": "cba50d3c",
   "metadata": {},
   "source": [
    "## Question 36\n",
    "Define a function which can generate a dictionary where the keys are numbers between 1 and 20 (both included) and the values are square of keys. The function should just print the keys only.\n",
    "\n",
    "Hints:\n",
    "\n",
    "Use dict[key]=value pattern to put entry into a dictionary.\n",
    "Use ** operator to get power of a number.\n",
    "Use range() for loops.\n",
    "Use keys() to iterate keys in the dictionary. Also we can use item() to get key/value pairs."
   ]
  },
  {
   "cell_type": "code",
   "execution_count": 66,
   "id": "f227a761",
   "metadata": {},
   "outputs": [
    {
     "name": "stdout",
     "output_type": "stream",
     "text": [
      "1\n",
      "2\n",
      "3\n",
      "4\n",
      "5\n",
      "6\n",
      "7\n",
      "8\n",
      "9\n",
      "10\n",
      "11\n",
      "12\n",
      "13\n",
      "14\n",
      "15\n",
      "16\n",
      "17\n",
      "18\n",
      "19\n",
      "20\n"
     ]
    }
   ],
   "source": [
    "def printDict():\n",
    "    d=dict()\n",
    "    for i in range(1,21):\n",
    "        d[i]=i**2\n",
    "    for (k,v) in d.items():\t\n",
    "        print(k)\n",
    "\n",
    "printDict()"
   ]
  },
  {
   "cell_type": "markdown",
   "id": "c3b9b1e9",
   "metadata": {},
   "source": [
    "## Question 37\n",
    "Define a function which can generate and print a list where the values are square of numbers between 1 and 20 (both included).\n",
    "\n",
    "Hints:\n",
    "\n",
    "Use ** operator to get power of a number.\n",
    "Use range() for loops.\n",
    "Use list.append() to add values into a list.\n"
   ]
  },
  {
   "cell_type": "code",
   "execution_count": 68,
   "id": "b75b0fe3",
   "metadata": {},
   "outputs": [
    {
     "name": "stdout",
     "output_type": "stream",
     "text": [
      "[1, 4, 9, 16, 25, 36, 49, 64, 81, 100, 121, 144, 169, 196, 225, 256, 289, 324, 361, 400]\n"
     ]
    }
   ],
   "source": [
    "def printList():\n",
    "    l=list()\n",
    "    for i in range(1,21):\n",
    "        l.append(i**2)\n",
    "    print(l)\n",
    "\n",
    "printList()"
   ]
  },
  {
   "cell_type": "markdown",
   "id": "a0a34f56",
   "metadata": {},
   "source": [
    "## Question 38\n",
    "Define a function which can generate a list where the values are square of numbers between 1 and 20 (both included). Then the function needs to print the first 5 elements in the list.\n",
    "\n",
    "Hints:\n",
    "\n",
    "Use ** operator to get power of a number.\n",
    "Use range() for loops.\n",
    "Use list.append() to add values into a list.\n",
    "Use [n1:n2] to slice a list"
   ]
  },
  {
   "cell_type": "code",
   "execution_count": 69,
   "id": "c4fb6d5f",
   "metadata": {},
   "outputs": [
    {
     "name": "stdout",
     "output_type": "stream",
     "text": [
      "[1, 4, 9, 16, 25]\n"
     ]
    }
   ],
   "source": [
    "def printList():\n",
    "    l=list()\n",
    "    for i in range(1,21):\n",
    "        l.append(i**2)\n",
    "    print(l[:5])\n",
    "\n",
    "printList()"
   ]
  },
  {
   "cell_type": "markdown",
   "id": "b0a3e701",
   "metadata": {},
   "source": [
    "## Question 39\n",
    "Define a function which can generate a list where the values are square of numbers between 1 and 20 (both included). Then the function needs to print the last 5 elements in the list.\n",
    "\n",
    "Hints:\n",
    "\n",
    "Use ** operator to get power of a number.\n",
    "Use range() for loops.\n",
    "Use list.append() to add values into a list.\n",
    "Use [n1:n2] to slice a list"
   ]
  },
  {
   "cell_type": "code",
   "execution_count": 71,
   "id": "d186a5c5",
   "metadata": {},
   "outputs": [
    {
     "name": "stdout",
     "output_type": "stream",
     "text": [
      "[256, 289, 324, 361, 400]\n"
     ]
    }
   ],
   "source": [
    "def printList():\n",
    "    l=list()\n",
    "    for i in range(1,21):\n",
    "        l.append(i**2)\n",
    "    print(l[-5:])\n",
    "\n",
    "printList()"
   ]
  },
  {
   "cell_type": "markdown",
   "id": "d90f8b86",
   "metadata": {},
   "source": [
    "## Question 40\n",
    "Define a function which can generate a list where the values are square of numbers between 1 and 20 (both included). Then the function needs to print all values except the first 5 elements in the list.\n",
    "\n",
    "Hints:\n",
    "\n",
    "Use ** operator to get power of a number.\n",
    "Use range() for loops.\n",
    "Use list.append() to add values into a list.\n",
    "Use [n1:n2] to slice a list"
   ]
  },
  {
   "cell_type": "code",
   "execution_count": 73,
   "id": "65549894",
   "metadata": {},
   "outputs": [
    {
     "name": "stdout",
     "output_type": "stream",
     "text": [
      "[36, 49, 64, 81, 100, 121, 144, 169, 196, 225, 256, 289, 324, 361, 400]\n"
     ]
    }
   ],
   "source": [
    "def printList():\n",
    "    l=list()\n",
    "    for i in range(1,21):\n",
    "        l.append(i**2)\n",
    "    print (l[5:])\n",
    "\n",
    "printList()"
   ]
  },
  {
   "cell_type": "markdown",
   "id": "b8f88ee5",
   "metadata": {},
   "source": [
    "## Question 41\n",
    "Define a function which can generate and print a tuple where the value are square of numbers between 1 and 20 (both included). \n",
    "\n",
    "Hints:\n",
    "\n",
    "Use ** operator to get power of a number.\n",
    "Use range() for loops.\n",
    "Use list.append() to add values into a list.\n",
    "Use tuple() to get a tuple from a list."
   ]
  },
  {
   "cell_type": "code",
   "execution_count": 75,
   "id": "bb1c9ff1",
   "metadata": {},
   "outputs": [
    {
     "name": "stdout",
     "output_type": "stream",
     "text": [
      "(1, 4, 9, 16, 25, 36, 49, 64, 81, 100, 121, 144, 169, 196, 225, 256, 289, 324, 361, 400)\n"
     ]
    }
   ],
   "source": [
    "def printTuple():\n",
    "    l=list()\n",
    "    for i in range(1,21):\n",
    "        l.append(i**2)\n",
    "    print(tuple(l))\n",
    "\n",
    "printTuple()"
   ]
  },
  {
   "cell_type": "markdown",
   "id": "c6163519",
   "metadata": {},
   "source": [
    "## Question 42\n",
    "With a given tuple (1,2,3,4,5,6,7,8,9,10), write a program to print the first half values in one line and the last half values in one line. \n",
    "\n",
    "Hints:\n",
    "\n",
    "Use [n1:n2] notation to get a slice from a tuple.\n"
   ]
  },
  {
   "cell_type": "code",
   "execution_count": 79,
   "id": "e4bdc788",
   "metadata": {},
   "outputs": [
    {
     "name": "stdout",
     "output_type": "stream",
     "text": [
      "(1, 2, 3, 4, 5) (6, 7, 8, 9, 10)\n"
     ]
    }
   ],
   "source": [
    "tp=(1,2,3,4,5,6,7,8,9,10)\n",
    "\n",
    "tp1=tp[:5]\n",
    "tp2=tp[5:]\n",
    "\n",
    "print(tp1, tp2)"
   ]
  },
  {
   "cell_type": "markdown",
   "id": "8489c1f4",
   "metadata": {},
   "source": [
    "## Question 43\n",
    "Write a program to generate and print another tuple whose values are even numbers in the given tuple (1,2,3,4,5,6,7,8,9,10). \n",
    "\n",
    "Hints:\n",
    "\n",
    "Use \"for\" to iterate the tuple\n",
    "Use tuple() to generate a tuple from a list."
   ]
  },
  {
   "cell_type": "code",
   "execution_count": 82,
   "id": "75ae6e38",
   "metadata": {},
   "outputs": [
    {
     "name": "stdout",
     "output_type": "stream",
     "text": [
      "(2, 4, 6, 8, 10)\n"
     ]
    }
   ],
   "source": [
    "tp=(1,2,3,4,5,6,7,8,9,10)\n",
    "li=list()\n",
    "for i in tp:\n",
    "    if i%2==0:\n",
    "        li.append(i)\n",
    "\n",
    "tp2=tuple(li)\n",
    "print(tp2)"
   ]
  },
  {
   "cell_type": "markdown",
   "id": "11a0e371",
   "metadata": {},
   "source": [
    "## Question 44\n",
    "Write a program which accepts a string as input to print \"Yes\" if the string is \"yes\" or \"YES\" or \"Yes\", otherwise print \"No\". \n",
    "\n",
    "Hints:\n",
    "Use if statement to judge condition."
   ]
  },
  {
   "cell_type": "code",
   "execution_count": 85,
   "id": "afeebacc",
   "metadata": {},
   "outputs": [
    {
     "name": "stdout",
     "output_type": "stream",
     "text": [
      "yes\n",
      "Yes\n"
     ]
    }
   ],
   "source": [
    "s= input()\n",
    "if (s=='yes' or s=='YES' or s=='Yes'):\n",
    "    print('Yes')\n",
    "else:\n",
    "    print('No')"
   ]
  },
  {
   "cell_type": "markdown",
   "id": "9c2a8eca",
   "metadata": {},
   "source": [
    "## Question 45\n",
    "Write a program which can filter even numbers in a list by using filter function. The list is: [1,2,3,4,5,6,7,8,9,10].\n",
    "\n",
    "Hints:\n",
    "\n",
    "Use filter() to filter some elements in a list.\n",
    "Use lambda to define anonymous functions."
   ]
  },
  {
   "cell_type": "code",
   "execution_count": 3,
   "id": "9fb3c4c8",
   "metadata": {},
   "outputs": [
    {
     "name": "stdout",
     "output_type": "stream",
     "text": [
      "[2, 4, 6, 8, 10]\n"
     ]
    }
   ],
   "source": [
    "li = [1,2,3,4,5,6,7,8,9,10]\n",
    " \n",
    "eve_num = filter(lambda x: x%2 == 0, li)\n",
    " \n",
    "print(list(eve_num))"
   ]
  },
  {
   "cell_type": "markdown",
   "id": "4897a60d",
   "metadata": {},
   "source": [
    "## Question 46\n",
    "Write a program which can map() to make a list whose elements are square of elements in [1,2,3,4,5,6,7,8,9,10].\n",
    "\n",
    "Hints\n",
    "Use map() to generate a list.\n",
    "Use lambda to define anonymous functions."
   ]
  },
  {
   "cell_type": "code",
   "execution_count": 4,
   "id": "67912ee3",
   "metadata": {},
   "outputs": [
    {
     "name": "stdout",
     "output_type": "stream",
     "text": [
      "[1, 4, 9, 16, 25, 36, 49, 64, 81, 100]\n"
     ]
    }
   ],
   "source": [
    "li = [1,2,3,4,5,6,7,8,9,10]\n",
    "sqrNum = map(lambda x: x**2, li)\n",
    "print(list(sqrNum))"
   ]
  },
  {
   "cell_type": "markdown",
   "id": "687e235c",
   "metadata": {},
   "source": [
    "## Question 47\n",
    "Write a program which can map() and filter() to make a list whose elements are square of even number in [1,2,3,4,5,6,7,8,9,10].\n",
    "\n",
    "Hints\n",
    "Use map() to generate a list.\n",
    "Use filter() to filter elements of a list.\n",
    "Use lambda to define anonymous functions.\n"
   ]
  },
  {
   "cell_type": "code",
   "execution_count": 5,
   "id": "3143eab7",
   "metadata": {},
   "outputs": [
    {
     "name": "stdout",
     "output_type": "stream",
     "text": [
      "[4, 16, 36, 64, 100]\n"
     ]
    }
   ],
   "source": [
    "li = [1,2,3,4,5,6,7,8,9,10]\n",
    " \n",
    "eve_num = map( lambda x: x**2, filter(lambda x: x%2 == 0, li))\n",
    " \n",
    "print(list(eve_num))"
   ]
  },
  {
   "cell_type": "markdown",
   "id": "c3bb4d95",
   "metadata": {},
   "source": [
    "## Question 48\n",
    "Write a program which can filter() to make a list whose elements are even number between 1 and 20 (both included).\n",
    "\n",
    "Hints:\n",
    "\n",
    "Use filter() to filter elements of a list.\n",
    "Use lambda to define anonymous functions."
   ]
  },
  {
   "cell_type": "code",
   "execution_count": 6,
   "id": "79739cef",
   "metadata": {},
   "outputs": [
    {
     "name": "stdout",
     "output_type": "stream",
     "text": [
      "[2, 4, 6, 8, 10, 12, 14, 16, 18, 20]\n"
     ]
    }
   ],
   "source": [
    "eve_num = filter(lambda x: x%2 == 0, range(1,21))\n",
    " \n",
    "print(list(eve_num))"
   ]
  },
  {
   "cell_type": "markdown",
   "id": "6cf80fed",
   "metadata": {},
   "source": [
    "## Question 49\n",
    "Write a program which can map() to make a list whose elements are square of numbers between 1 and 20 (both included).\n",
    "\n",
    "Hints\n",
    "Use map() to generate a list.\n",
    "Use lambda to define anonymous functions.\n"
   ]
  },
  {
   "cell_type": "code",
   "execution_count": 7,
   "id": "2ccdf268",
   "metadata": {},
   "outputs": [
    {
     "name": "stdout",
     "output_type": "stream",
     "text": [
      "[1, 4, 9, 16, 25, 36, 49, 64, 81, 100, 121, 144, 169, 196, 225, 256, 289, 324, 361, 400]\n"
     ]
    }
   ],
   "source": [
    "sqrNum = map(lambda x: x**2, range(1,21))\n",
    "print(list(sqrNum))"
   ]
  },
  {
   "cell_type": "markdown",
   "id": "4d09a4c0",
   "metadata": {},
   "source": [
    "## Question 50\n",
    "Define a class named American which has a static method called printNationality.\n",
    "\n",
    "Hints:\n",
    "Use @staticmethod decorator to define class static method.\n"
   ]
  },
  {
   "cell_type": "code",
   "execution_count": 9,
   "id": "2d18c66c",
   "metadata": {},
   "outputs": [
    {
     "name": "stdout",
     "output_type": "stream",
     "text": [
      "America\n",
      "America\n"
     ]
    }
   ],
   "source": [
    "class American(object):\n",
    "    @staticmethod\n",
    "    def printNationality():\n",
    "        print(\"America\")\n",
    "\n",
    "obj1 = American()\n",
    "obj1.printNationality()\n",
    "American.printNationality()"
   ]
  },
  {
   "cell_type": "markdown",
   "id": "d86538b3",
   "metadata": {},
   "source": [
    "## Question 51\n",
    "Define a class named American and its subclass NewYorker. \n",
    "\n",
    "Hints:\n",
    "\n",
    "Use class Subclass(ParentClass) to define a subclass."
   ]
  },
  {
   "cell_type": "code",
   "execution_count": 11,
   "id": "2f5fb48a",
   "metadata": {},
   "outputs": [
    {
     "name": "stdout",
     "output_type": "stream",
     "text": [
      "<__main__.American object at 0x0000025DE30782E0>\n",
      "<__main__.NewYorker object at 0x0000025DE3035550>\n"
     ]
    }
   ],
   "source": [
    "class American(object):\n",
    "    pass\n",
    "\n",
    "class NewYorker(American):\n",
    "    pass\n",
    "\n",
    "obj1 = American()\n",
    "obj2 = NewYorker()\n",
    "print(obj1)\n",
    "print(obj2)"
   ]
  },
  {
   "cell_type": "markdown",
   "id": "ef80a6a6",
   "metadata": {},
   "source": [
    "## Question 52\n",
    "Define a class named Circle which can be constructed by a radius. The Circle class has a method which can compute the area. \n",
    "\n",
    "Hints:\n",
    "\n",
    "Use def methodName(self) to define a method.\n"
   ]
  },
  {
   "cell_type": "code",
   "execution_count": 16,
   "id": "93a0bfc8",
   "metadata": {},
   "outputs": [
    {
     "name": "stdout",
     "output_type": "stream",
     "text": [
      "50.27\n"
     ]
    }
   ],
   "source": [
    "import math\n",
    "class Circle(object):\n",
    "    def __init__(self, r):\n",
    "        self.radius = r\n",
    "\n",
    "    def area(self):\n",
    "        return self.radius**2*math.pi\n",
    "\n",
    "aCircle = Circle(4)\n",
    "print (round(aCircle.area(),2))"
   ]
  },
  {
   "cell_type": "markdown",
   "id": "e05d49ed",
   "metadata": {},
   "source": [
    "## Question 53\n",
    "Define a class named Rectangle which can be constructed by a length and width. The Rectangle class has a method which can compute the area. \n",
    "\n",
    "Hints:\n",
    "\n",
    "Use def methodName(self) to define a method."
   ]
  },
  {
   "cell_type": "code",
   "execution_count": 22,
   "id": "887e2e94",
   "metadata": {},
   "outputs": [
    {
     "name": "stdout",
     "output_type": "stream",
     "text": [
      "210.0\n"
     ]
    }
   ],
   "source": [
    "class Rectangle(object):\n",
    "    def __init__(self, l, w):\n",
    "        self.length = l\n",
    "        self.width  = w\n",
    "\n",
    "    def area(self):\n",
    "        return self.length*self.width\n",
    "\n",
    "aRectangle = Rectangle(20,10.5)\n",
    "print(round(aRectangle.area(),2))"
   ]
  },
  {
   "cell_type": "markdown",
   "id": "5b7e50a3",
   "metadata": {},
   "source": [
    "## Question 54\n",
    "Define a class named Shape and its subclass Square. The Square class has an init function which takes a length as argument. Both classes have a area function which can print the area of the shape where Shape's area is 0 by default.\n",
    "\n",
    "Hints:\n",
    "\n",
    "To override a method in super class, we can define a method with the same name in the super class."
   ]
  },
  {
   "cell_type": "code",
   "execution_count": 25,
   "id": "6816749a",
   "metadata": {},
   "outputs": [
    {
     "name": "stdout",
     "output_type": "stream",
     "text": [
      "25\n"
     ]
    }
   ],
   "source": [
    "class Shape(object):\n",
    "    def __init__(self):\n",
    "        pass\n",
    "\n",
    "    def area(self):\n",
    "        return 0\n",
    "\n",
    "class Square(Shape):\n",
    "    def __init__(self, l):\n",
    "        Shape.__init__(self)\n",
    "        self.length = l\n",
    "\n",
    "    def area(self):\n",
    "        return self.length**2\n",
    "\n",
    "aSquare= Square(5)\n",
    "print(round(aSquare.area(),2))"
   ]
  },
  {
   "cell_type": "markdown",
   "id": "be0f13e8",
   "metadata": {},
   "source": [
    "## Question 55\n",
    "Please raise a RuntimeError exception.\n",
    "\n",
    "Hints:\n",
    "\n",
    "Use raise() to raise an exception.\n"
   ]
  },
  {
   "cell_type": "code",
   "execution_count": 28,
   "id": "3b7d06cb",
   "metadata": {},
   "outputs": [
    {
     "ename": "RuntimeError",
     "evalue": "Error found in the 3rd loop",
     "output_type": "error",
     "traceback": [
      "\u001b[1;31m---------------------------------------------------------------------------\u001b[0m",
      "\u001b[1;31mRuntimeError\u001b[0m                              Traceback (most recent call last)",
      "\u001b[1;32m<ipython-input-28-81d3efe54016>\u001b[0m in \u001b[0;36m<module>\u001b[1;34m\u001b[0m\n\u001b[1;32m----> 1\u001b[1;33m \u001b[1;32mraise\u001b[0m \u001b[0mRuntimeError\u001b[0m\u001b[1;33m(\u001b[0m\u001b[1;34m'Error found in the 3rd loop'\u001b[0m\u001b[1;33m)\u001b[0m\u001b[1;33m\u001b[0m\u001b[1;33m\u001b[0m\u001b[0m\n\u001b[0m",
      "\u001b[1;31mRuntimeError\u001b[0m: Error found in the 3rd loop"
     ]
    }
   ],
   "source": [
    "raise RuntimeError('Error found in the 3rd loop')"
   ]
  },
  {
   "cell_type": "markdown",
   "id": "ffe3d49e",
   "metadata": {},
   "source": [
    "## Question 56\n",
    "Write a function to compute 5/0 and use try/except to catch the exceptions.\n",
    "\n",
    "Hints:\n",
    "\n",
    "Use try/except to catch exceptions."
   ]
  },
  {
   "cell_type": "code",
   "execution_count": 29,
   "id": "a004133d",
   "metadata": {},
   "outputs": [
    {
     "ename": "SyntaxError",
     "evalue": "invalid syntax (<ipython-input-29-1211633063ea>, line 8)",
     "output_type": "error",
     "traceback": [
      "\u001b[1;36m  File \u001b[1;32m\"<ipython-input-29-1211633063ea>\"\u001b[1;36m, line \u001b[1;32m8\u001b[0m\n\u001b[1;33m    except Exception, err:\u001b[0m\n\u001b[1;37m                    ^\u001b[0m\n\u001b[1;31mSyntaxError\u001b[0m\u001b[1;31m:\u001b[0m invalid syntax\n"
     ]
    }
   ],
   "source": [
    "def throws():\n",
    "    return 5/0\n",
    "\n",
    "try:\n",
    "    throws()\n",
    "except ZeroDivisionError:\n",
    "    print(\"division by zero!\")\n",
    "except Exception, err:\n",
    "    print('Caught an exception')\n",
    "finally:\n",
    "    print('In finally block for cleanup')"
   ]
  },
  {
   "cell_type": "markdown",
   "id": "f9768cd1",
   "metadata": {},
   "source": [
    "## Question 57\n",
    "Define a custom exception class which takes a string message as attribute.\n",
    "\n",
    "Hints:\n",
    "\n",
    "To define a custom exception, we need to define a class inherited from Exception.\n"
   ]
  },
  {
   "cell_type": "code",
   "execution_count": 32,
   "id": "e521f54c",
   "metadata": {},
   "outputs": [],
   "source": [
    "class MyError(Exception):\n",
    "    \"\"\"My own exception class\n",
    "\n",
    "    Attributes:\n",
    "        msg  -- explanation of the error\n",
    "    \"\"\"\n",
    "    \n",
    "    def __init__(self, msg):\n",
    "        self.msg = msg\n",
    "\n",
    "error = MyError(\"something wrong\")"
   ]
  },
  {
   "cell_type": "markdown",
   "id": "19b6ab64",
   "metadata": {},
   "source": [
    "## Question 58\n",
    "Assuming that we have some email addresses in the \"username@companyname.com\" format, please write program to print the user name of a given email address. Both user names and company names are composed of letters only.\n",
    "\n",
    "Example:\n",
    "If the following email address is given as input to the program:\n",
    "\n",
    "john@google.com\n",
    "\n",
    "Then, the output of the program should be:\n",
    "\n",
    "john\n",
    "\n",
    "In case of input data being supplied to the question, it should be assumed to be a console input.\n",
    "\n",
    "Hints:\n",
    "\n",
    "Use \\w to match letters."
   ]
  },
  {
   "cell_type": "code",
   "execution_count": 37,
   "id": "39ad7d1d",
   "metadata": {},
   "outputs": [
    {
     "name": "stdout",
     "output_type": "stream",
     "text": [
      "dipu@gmail.com\n",
      "dipu\n"
     ]
    }
   ],
   "source": [
    "import re\n",
    "email = input()\n",
    "pat2 = \"(\\w+)@((\\w+\\.)+(com))\"\n",
    "r2 = re.match(pat2,email)\n",
    "print(r2.group(1))"
   ]
  },
  {
   "cell_type": "markdown",
   "id": "e030bc12",
   "metadata": {},
   "source": [
    "## Question 59\n",
    "Assuming that we have some email addresses in the \"username@companyname.com\" format, please write program to print the company name of a given email address. Both user names and company names are composed of letters only.\n",
    "\n",
    "Example:\n",
    "If the following email address is given as input to the program:\n",
    "\n",
    "john@google.com\n",
    "\n",
    "Then, the output of the program should be:\n",
    "\n",
    "google\n",
    "\n",
    "In case of input data being supplied to the question, it should be assumed to be a console input.\n",
    "\n",
    "Hints:\n",
    "\n",
    "Use \\w to match letters.\n"
   ]
  },
  {
   "cell_type": "code",
   "execution_count": 38,
   "id": "f319e110",
   "metadata": {},
   "outputs": [
    {
     "name": "stdout",
     "output_type": "stream",
     "text": [
      "dipu@gmail.com\n",
      "gmail.com\n"
     ]
    }
   ],
   "source": [
    "import re\n",
    "email = input()\n",
    "pat2 = \"(\\w+)@((\\w+\\.)+(com))\"\n",
    "r2 = re.match(pat2,email)\n",
    "print(r2.group(2))"
   ]
  },
  {
   "cell_type": "markdown",
   "id": "607e4239",
   "metadata": {},
   "source": [
    "## Question 60\n",
    "Write a program which accepts a sequence of words separated by whitespace as input to print the words composed of digits only.\n",
    "\n",
    "Example:\n",
    "If the following words is given as input to the program:\n",
    "\n",
    "2 cats and 3 dogs.\n",
    "\n",
    "Then, the output of the program should be:\n",
    "\n",
    "['2', '3']\n",
    "\n",
    "In case of input data being supplied to the question, it should be assumed to be a console input.\n",
    "\n",
    "Hints:\n",
    "\n",
    "Use re.findall() to find all substring using regex.\n"
   ]
  },
  {
   "cell_type": "code",
   "execution_count": 39,
   "id": "2178a106",
   "metadata": {},
   "outputs": [
    {
     "name": "stdout",
     "output_type": "stream",
     "text": [
      "2 cats and 3 dogs\n",
      "['2', '3']\n"
     ]
    }
   ],
   "source": [
    "import re\n",
    "s = input()\n",
    "print(re.findall(\"\\d+\",s))"
   ]
  },
  {
   "cell_type": "markdown",
   "id": "6326f83a",
   "metadata": {},
   "source": [
    "## Question 61\n",
    "Print a unicode string \"hello world\".\n",
    "\n",
    "Hints:\n",
    "\n",
    "Use u'strings' format to define unicode string."
   ]
  },
  {
   "cell_type": "code",
   "execution_count": 40,
   "id": "e893ed33",
   "metadata": {},
   "outputs": [
    {
     "name": "stdout",
     "output_type": "stream",
     "text": [
      "hello world!\n"
     ]
    }
   ],
   "source": [
    "unicodeStr = u\"hello world!\"\n",
    "print(unicodeStr)"
   ]
  },
  {
   "cell_type": "markdown",
   "id": "a9609846",
   "metadata": {},
   "source": [
    "## Question 62\n",
    "Write a program to read an ASCII string and to convert it to a unicode string encoded by utf-8.\n",
    "\n",
    "Hints:\n",
    "\n",
    "Use unicode() function to convert."
   ]
  },
  {
   "cell_type": "code",
   "execution_count": 51,
   "id": "cb67f63b",
   "metadata": {},
   "outputs": [
    {
     "name": "stdout",
     "output_type": "stream",
     "text": [
      "hello\n",
      "b'hello'\n"
     ]
    }
   ],
   "source": [
    "s = input()\n",
    "u = s.encode('utf-8')\n",
    "print(u)"
   ]
  },
  {
   "cell_type": "markdown",
   "id": "1bd5d265",
   "metadata": {},
   "source": [
    "## Question 63\n",
    "\n",
    "Write a special comment to indicate a Python source code file is in unicode.\n",
    "\n",
    "Hints:\n"
   ]
  },
  {
   "cell_type": "code",
   "execution_count": 54,
   "id": "5a9c5941",
   "metadata": {},
   "outputs": [],
   "source": [
    "#----------------------------------------#\n",
    "\n",
    "# *-* ID:2019-1-60-093 *-*\n",
    "\n",
    "#----------------------------------------#"
   ]
  },
  {
   "cell_type": "markdown",
   "id": "19e9fa05",
   "metadata": {},
   "source": [
    "## Question 64\n",
    "\n",
    "Write a program to compute 1/2+2/3+3/4+...+n/n+1 with a given n input by console (n>0).\n",
    "\n",
    "Example:\n",
    "If the following n is given as input to the program:\n",
    "\n",
    "5\n",
    "\n",
    "Then, the output of the program should be:\n",
    "\n",
    "3.55\n",
    "\n",
    "In case of input data being supplied to the question, it should be assumed to be a console input.\n",
    "\n",
    "Hints:\n",
    "Use float() to convert an integer to a float"
   ]
  },
  {
   "cell_type": "code",
   "execution_count": 56,
   "id": "05e819a6",
   "metadata": {},
   "outputs": [
    {
     "name": "stdout",
     "output_type": "stream",
     "text": [
      "5\n",
      "3.55\n"
     ]
    }
   ],
   "source": [
    "sum=0.0\n",
    "n=int(input())\n",
    "for i in range(1,n+1):\n",
    "    sum += float(float(i)/(i+1))\n",
    "print(round(sum,2))"
   ]
  },
  {
   "cell_type": "markdown",
   "id": "fcc8bc7f",
   "metadata": {},
   "source": [
    "## Question 65\n",
    "\n",
    "Write a program to compute:\n",
    "\n",
    "f(n)=f(n-1)+100 when n>0\n",
    "and f(0)=1\n",
    "\n",
    "with a given n input by console (n>0).\n",
    "\n",
    "Example:\n",
    "If the following n is given as input to the program:\n",
    "\n",
    "5\n",
    "\n",
    "Then, the output of the program should be:\n",
    "\n",
    "500\n",
    "\n",
    "In case of input data being supplied to the question, it should be assumed to be a console input.\n",
    "\n",
    "Hints:\n",
    "We can define recursive function in Python."
   ]
  },
  {
   "cell_type": "code",
   "execution_count": 57,
   "id": "f3ffa766",
   "metadata": {},
   "outputs": [
    {
     "name": "stdout",
     "output_type": "stream",
     "text": [
      "5\n",
      "500\n"
     ]
    }
   ],
   "source": [
    "def f(n):\n",
    "    if n == 0:\n",
    "        return 0\n",
    "    else:\n",
    "        return f(n-1)+100\n",
    "\n",
    "n=int(input())\n",
    "print(f(n))"
   ]
  },
  {
   "cell_type": "markdown",
   "id": "fdf82c6c",
   "metadata": {},
   "source": [
    "## Question 66\n",
    "The Fibonacci Sequence is computed based on the following formula:\n",
    "\n",
    "f(n)=0 if n=0\n",
    "f(n)=1 if n=1\n",
    "f(n)=f(n-1)+f(n-2) if n>1\n",
    "\n",
    "Please write a program to compute the value of f(n) with a given n input by console.\n",
    "\n",
    "Example:\n",
    "If the following n is given as input to the program:\n",
    "\n",
    "7\n",
    "\n",
    "Then, the output of the program should be:\n",
    "\n",
    "13\n",
    "\n",
    "In case of input data being supplied to the question, it should be assumed to be a console input.\n",
    "\n",
    "Hints:\n",
    "We can define recursive function in Python."
   ]
  },
  {
   "cell_type": "code",
   "execution_count": 58,
   "id": "c4d0b668",
   "metadata": {},
   "outputs": [
    {
     "name": "stdout",
     "output_type": "stream",
     "text": [
      "7\n",
      "13\n"
     ]
    }
   ],
   "source": [
    "def f(n):\n",
    "    if n == 0:\n",
    "        return 0\n",
    "    \n",
    "    elif n == 1:\n",
    "        return 1\n",
    "    \n",
    "    else:\n",
    "        return f(n-1)+f(n-2)\n",
    "\n",
    "n=int(input())\n",
    "print(f(n))"
   ]
  },
  {
   "cell_type": "markdown",
   "id": "c90d908d",
   "metadata": {},
   "source": [
    "## Question 67\n",
    "The Fibonacci Sequence is computed based on the following formula:\n",
    "\n",
    "f(n)=0 if n=0\n",
    "f(n)=1 if n=1\n",
    "f(n)=f(n-1)+f(n-2) if n>1\n",
    "\n",
    "Please write a program using list comprehension to print the Fibonacci Sequence in comma separated form with a given n input by console.\n",
    "\n",
    "Example:\n",
    "If the following n is given as input to the program:\n",
    "\n",
    "7\n",
    "\n",
    "Then, the output of the program should be:\n",
    "\n",
    "0,1,1,2,3,5,8,13\n",
    "\n",
    "\n",
    "Hints:\n",
    "We can define recursive function in Python.\n",
    "Use list comprehension to generate a list from an existing list.\n",
    "Use string.join() to join a list of strings.\n",
    "\n",
    "In case of input data being supplied to the question, it should be assumed to be a console input."
   ]
  },
  {
   "cell_type": "code",
   "execution_count": 60,
   "id": "384392b4",
   "metadata": {},
   "outputs": [
    {
     "name": "stdout",
     "output_type": "stream",
     "text": [
      "7\n",
      "0,1,1,2,3,5,8,13\n"
     ]
    }
   ],
   "source": [
    "def f(n):\n",
    "    if n == 0:\n",
    "        return 0\n",
    "    \n",
    "    elif n == 1:\n",
    "        return 1\n",
    "    \n",
    "    else:\n",
    "        return f(n-1)+f(n-2)\n",
    "\n",
    "n=int(input())\n",
    "\n",
    "values = [str(f(x)) for x in range(0, n+1)]\n",
    "\n",
    "print(\",\".join(values))"
   ]
  },
  {
   "cell_type": "markdown",
   "id": "ead873b3",
   "metadata": {},
   "source": [
    "## Question 68\n",
    "\n",
    "Please write a program using generator to print the even numbers between 0 and n in comma separated form while n is input by console.\n",
    "\n",
    "Example:\n",
    "If the following n is given as input to the program:\n",
    "\n",
    "10\n",
    "\n",
    "Then, the output of the program should be:\n",
    "\n",
    "0,2,4,6,8,10\n",
    "\n",
    "Hints:\n",
    "Use yield to produce the next value in generator.\n",
    "\n",
    "In case of input data being supplied to the question, it should be assumed to be a console input.\n"
   ]
  },
  {
   "cell_type": "code",
   "execution_count": 61,
   "id": "942facef",
   "metadata": {},
   "outputs": [
    {
     "name": "stdout",
     "output_type": "stream",
     "text": [
      "10\n",
      "0,2,4,6,8,10\n"
     ]
    }
   ],
   "source": [
    "def generateEven(n):\n",
    "    i=0\n",
    "    while i<=n:\n",
    "        if i%2==0:\n",
    "            yield i\n",
    "        i+=1\n",
    "\n",
    "\n",
    "n=int(input())\n",
    "values = []\n",
    "for i in generateEven(n):\n",
    "    values.append(str(i))\n",
    "\n",
    "print(\",\".join(values))"
   ]
  },
  {
   "cell_type": "markdown",
   "id": "31c962c5",
   "metadata": {},
   "source": [
    "## Question 69\n",
    "Please write a program using generator to print the numbers which can be divisible by 5 and 7 between 0 and n in comma separated form while n is input by console.\n",
    "\n",
    "Example:\n",
    "If the following n is given as input to the program:\n",
    "\n",
    "100\n",
    "\n",
    "Then, the output of the program should be:\n",
    "\n",
    "0,35,70\n",
    "\n",
    "Hints:\n",
    "Use yield to produce the next value in generator.\n",
    "\n",
    "In case of input data being supplied to the question, it should be assumed to be a console input.\n"
   ]
  },
  {
   "cell_type": "code",
   "execution_count": 62,
   "id": "c2870dd5",
   "metadata": {},
   "outputs": [
    {
     "name": "stdout",
     "output_type": "stream",
     "text": [
      "100\n",
      "0,35,70\n"
     ]
    }
   ],
   "source": [
    "def NumGenerator(n):\n",
    "    for i in range(n+1):\n",
    "        if i%5==0 and i%7==0:\n",
    "            yield i\n",
    "\n",
    "n=int(input())\n",
    "values = []\n",
    "for i in NumGenerator(n):\n",
    "    values.append(str(i))\n",
    "\n",
    "print(\",\".join(values))"
   ]
  },
  {
   "cell_type": "markdown",
   "id": "ad4310ea",
   "metadata": {},
   "source": [
    "## Question 70\n",
    "Please write assert statements to verify that every number in the list [2,4,6,8] is even.\n",
    "\n",
    "Hints:\n",
    "Use \"assert expression\" to make assertion.\n"
   ]
  },
  {
   "cell_type": "code",
   "execution_count": 70,
   "id": "d2782322",
   "metadata": {},
   "outputs": [],
   "source": [
    "li = [2,4,6,8]\n",
    "for i in li:\n",
    "    assert i%2==0, 'Not all the items are even'"
   ]
  },
  {
   "cell_type": "markdown",
   "id": "2140060a",
   "metadata": {},
   "source": [
    "## Question 71\n",
    "Please write a program which accepts basic mathematic expression from console and print the evaluation result.\n",
    "\n",
    "Example:\n",
    "If the following string is given as input to the program:\n",
    "\n",
    "35+3\n",
    "\n",
    "Then, the output of the program should be:\n",
    "\n",
    "38\n",
    "\n",
    "Hints:\n",
    "Use eval() to evaluate an expression.\n",
    "\n"
   ]
  },
  {
   "cell_type": "code",
   "execution_count": 71,
   "id": "c13cb02b",
   "metadata": {},
   "outputs": [
    {
     "name": "stdout",
     "output_type": "stream",
     "text": [
      "1+2\n",
      "3\n"
     ]
    }
   ],
   "source": [
    "expression = input()\n",
    "print(eval(expression))"
   ]
  },
  {
   "cell_type": "markdown",
   "id": "34b1b8b7",
   "metadata": {},
   "source": [
    "## Question 72\n",
    "Please write a binary search function which searches an item in a sorted list. The function should return the index of element to be searched in the list.\n",
    "\n",
    "Hints:\n",
    "Use if/elif to deal with conditions.\n"
   ]
  },
  {
   "cell_type": "code",
   "execution_count": 95,
   "id": "c00f17d1",
   "metadata": {},
   "outputs": [
    {
     "name": "stdout",
     "output_type": "stream",
     "text": [
      "6\n",
      "9\n"
     ]
    }
   ],
   "source": [
    "import math\n",
    "def bin_search(li, element):\n",
    "    bottom = 0\n",
    "    top = len(li)-1\n",
    "    index = -1\n",
    "    while top>=bottom and index==-1:\n",
    "        mid = int(math.floor((top+bottom)/2.0))\n",
    "        if li[mid]==element:\n",
    "            index = mid\n",
    "        elif li[mid]>element:\n",
    "            top = mid-1\n",
    "        else:\n",
    "            bottom = mid+1\n",
    "\n",
    "    return index\n",
    "\n",
    "li=[1,3,4,6,8,9,11,15,19,20]\n",
    "print(bin_search(li,11))\n",
    "print(bin_search(li,20))"
   ]
  },
  {
   "cell_type": "markdown",
   "id": "d09b7302",
   "metadata": {},
   "source": [
    "## Question 73\n",
    "Please write a binary search function which searches an item in a sorted list. The function should return the index of element to be searched in the list.\n",
    "\n",
    "Hints:\n",
    "Use if/elif to deal with conditions.\n"
   ]
  },
  {
   "cell_type": "code",
   "execution_count": 96,
   "id": "fd440000",
   "metadata": {},
   "outputs": [
    {
     "name": "stdout",
     "output_type": "stream",
     "text": [
      "6\n",
      "8\n"
     ]
    }
   ],
   "source": [
    "import math\n",
    "def bin_search(li, element):\n",
    "    bottom = 0\n",
    "    top = len(li)-1\n",
    "    index = -1\n",
    "    while top>=bottom and index==-1:\n",
    "        mid = int(math.floor((top+bottom)/2.0))\n",
    "        if li[mid]==element:\n",
    "            index = mid\n",
    "        elif li[mid]>element:\n",
    "            top = mid-1\n",
    "        else:\n",
    "            bottom = mid+1\n",
    "\n",
    "    return index\n",
    "\n",
    "li=[1,3,4,6,8,9,11,15,19,20]\n",
    "print(bin_search(li,11))\n",
    "print(bin_search(li,19))"
   ]
  },
  {
   "cell_type": "markdown",
   "id": "ca909525",
   "metadata": {},
   "source": [
    "## Question 74\n",
    "Please generate a random float where the value is between 10 and 100 using Python math module.\n",
    "\n",
    "Hints:\n",
    "Use random.random() to generate a random float in [0,1].\n"
   ]
  },
  {
   "cell_type": "code",
   "execution_count": 97,
   "id": "db56215c",
   "metadata": {},
   "outputs": [
    {
     "name": "stdout",
     "output_type": "stream",
     "text": [
      "13.424854878719572\n"
     ]
    }
   ],
   "source": [
    "import random\n",
    "print(random.random()*100)"
   ]
  },
  {
   "cell_type": "markdown",
   "id": "7096bc0d",
   "metadata": {},
   "source": [
    "## Question 75\n",
    "Please generate a random float where the value is between 5 and 95 using Python math module.\n",
    "\n",
    "Hints:\n",
    "Use random.random() to generate a random float in [0,1].\n"
   ]
  },
  {
   "cell_type": "code",
   "execution_count": 98,
   "id": "06434714",
   "metadata": {},
   "outputs": [
    {
     "name": "stdout",
     "output_type": "stream",
     "text": [
      "50.79\n"
     ]
    }
   ],
   "source": [
    "import random\n",
    "print(round(random.random()*100-5,2))"
   ]
  },
  {
   "cell_type": "markdown",
   "id": "85763e14",
   "metadata": {},
   "source": [
    "## Question 76\n",
    "Please write a program to output a random even number between 0 and 10 inclusive using random module and list comprehension.\n",
    "\n",
    "Hints:\n",
    "Use random.choice() to a random element from a list."
   ]
  },
  {
   "cell_type": "code",
   "execution_count": 99,
   "id": "33709182",
   "metadata": {},
   "outputs": [
    {
     "name": "stdout",
     "output_type": "stream",
     "text": [
      "8\n"
     ]
    }
   ],
   "source": [
    "import random\n",
    "print(random.choice([i for i in range(11) if i%2==0]))"
   ]
  },
  {
   "cell_type": "markdown",
   "id": "7b06e9db",
   "metadata": {},
   "source": [
    "## Question 77\n",
    "Please write a program to output a random number, which is divisible by 5 and 7, between 0 and 10 inclusive using random module and list comprehension.\n",
    "\n",
    "Hints:\n",
    "Use random.choice() to a random element from a list."
   ]
  },
  {
   "cell_type": "code",
   "execution_count": 100,
   "id": "6ef57b0a",
   "metadata": {},
   "outputs": [
    {
     "name": "stdout",
     "output_type": "stream",
     "text": [
      "0\n"
     ]
    }
   ],
   "source": [
    "import random\n",
    "print(random.choice([i for i in range(201) if i%5==0 and i%7==0]))"
   ]
  },
  {
   "cell_type": "markdown",
   "id": "1a34e80b",
   "metadata": {},
   "source": [
    "## Question 78\n",
    "Please write a program to generate a list with 5 random numbers between 100 and 200 inclusive.\n",
    "\n",
    "Hints:\n",
    "Use random.sample() to generate a list of random values.\n"
   ]
  },
  {
   "cell_type": "code",
   "execution_count": 101,
   "id": "76ad9d99",
   "metadata": {},
   "outputs": [
    {
     "name": "stdout",
     "output_type": "stream",
     "text": [
      "[44, 21, 60, 85, 55]\n"
     ]
    }
   ],
   "source": [
    "import random\n",
    "print(random.sample(range(100), 5))"
   ]
  },
  {
   "cell_type": "markdown",
   "id": "6ebf324d",
   "metadata": {},
   "source": [
    "## Question 79\n",
    "Please write a program to randomly generate a list with 5 even numbers between 100 and 200 inclusive.\n",
    "\n",
    "Hints:\n",
    "Use random.sample() to generate a list of random values."
   ]
  },
  {
   "cell_type": "code",
   "execution_count": 102,
   "id": "98fa6af7",
   "metadata": {},
   "outputs": [
    {
     "name": "stdout",
     "output_type": "stream",
     "text": [
      "[150, 158, 198, 126, 162]\n"
     ]
    }
   ],
   "source": [
    "import random\n",
    "print(random.sample([i for i in range(100,201) if i%2==0], 5))"
   ]
  },
  {
   "cell_type": "markdown",
   "id": "af9707c6",
   "metadata": {},
   "source": [
    "## Question 80\n",
    "Please write a program to randomly generate a list with 5 numbers, which are divisible by 5 and 7 , between 1 and 1000 inclusive.\n",
    "\n",
    "Hints:\n",
    "Use random.sample() to generate a list of random values.\n"
   ]
  },
  {
   "cell_type": "code",
   "execution_count": 103,
   "id": "29894063",
   "metadata": {},
   "outputs": [
    {
     "name": "stdout",
     "output_type": "stream",
     "text": [
      "[525, 455, 385, 420, 700]\n"
     ]
    }
   ],
   "source": [
    "import random\n",
    "print(random.sample([i for i in range(1,1001) if i%5==0 and i%7==0], 5))"
   ]
  },
  {
   "cell_type": "markdown",
   "id": "c7d23e7a",
   "metadata": {},
   "source": [
    "## Question 81\n",
    "Please write a program to randomly print a integer number between 7 and 15 inclusive.\n",
    "\n",
    "Hints:\n",
    "Use random.randrange() to a random integer in a given range."
   ]
  },
  {
   "cell_type": "code",
   "execution_count": 104,
   "id": "f3dfdebd",
   "metadata": {},
   "outputs": [
    {
     "name": "stdout",
     "output_type": "stream",
     "text": [
      "14\n"
     ]
    }
   ],
   "source": [
    "import random\n",
    "print(random.randrange(7,16))"
   ]
  },
  {
   "cell_type": "markdown",
   "id": "f0a0b1f6",
   "metadata": {},
   "source": [
    "## Question 82\n",
    "Please write a program to compress and decompress the string \"hello world!hello world!hello world!hello world!\".\n",
    "\n",
    "Hints:\n",
    "Use zlib.compress() and zlib.decompress() to compress and decompress a string."
   ]
  },
  {
   "cell_type": "code",
   "execution_count": 105,
   "id": "335fc972",
   "metadata": {},
   "outputs": [
    {
     "name": "stdout",
     "output_type": "stream",
     "text": [
      "b'x\\x9c\\xcbH\\xcd\\xc9\\xc9W(\\xcf/\\xcaIQ\\xcc \\x82\\r\\x00\\xbd[\\x11\\xf5'\n",
      "b'hello world!hello world!hello world!hello world!'\n"
     ]
    }
   ],
   "source": [
    "import zlib\n",
    "s = b'hello world!hello world!hello world!hello world!'\n",
    "t = zlib.compress(s)\n",
    "print(t)\n",
    "print(zlib.decompress(t))"
   ]
  },
  {
   "cell_type": "markdown",
   "id": "928b120f",
   "metadata": {},
   "source": [
    "## Question 83\n",
    "Please write a program to print the running time of execution of \"1+1\" for 100 times.\n",
    "\n",
    "Hints:\n",
    "Use timeit() function to measure the running time."
   ]
  },
  {
   "cell_type": "code",
   "execution_count": 109,
   "id": "c41055a4",
   "metadata": {},
   "outputs": [
    {
     "name": "stdout",
     "output_type": "stream",
     "text": [
      "1.51\n"
     ]
    }
   ],
   "source": [
    "from timeit import Timer\n",
    "t = Timer(\"for i in range(100):1+1\")\n",
    "print(round(t.timeit(),2))"
   ]
  },
  {
   "cell_type": "markdown",
   "id": "8444f617",
   "metadata": {},
   "source": [
    "## Question 84\n",
    "Please write a program to shuffle and print the list [3,6,7,8].\n",
    "\n",
    "Hints:\n",
    "Use shuffle() function to shuffle a list.\n"
   ]
  },
  {
   "cell_type": "code",
   "execution_count": 113,
   "id": "05618c9f",
   "metadata": {},
   "outputs": [
    {
     "name": "stdout",
     "output_type": "stream",
     "text": [
      "[8, 7, 6, 3]\n"
     ]
    }
   ],
   "source": [
    "from random import shuffle\n",
    "li = [3,6,7,8]\n",
    "shuffle(li)\n",
    "print(li)"
   ]
  },
  {
   "cell_type": "markdown",
   "id": "04344bb1",
   "metadata": {},
   "source": [
    "## Question 85\n",
    "Please write a program to shuffle and print the list [3,6,7,8].\n",
    "\n",
    "Hints:\n",
    "Use shuffle() function to shuffle a list."
   ]
  },
  {
   "cell_type": "code",
   "execution_count": 116,
   "id": "0485567a",
   "metadata": {},
   "outputs": [
    {
     "name": "stdout",
     "output_type": "stream",
     "text": [
      "[7, 6, 8, 3]\n"
     ]
    }
   ],
   "source": [
    "from random import shuffle\n",
    "li = [3,6,7,8]\n",
    "shuffle(li)\n",
    "print(li)"
   ]
  },
  {
   "cell_type": "markdown",
   "id": "7c5ba748",
   "metadata": {},
   "source": [
    "## Question 86\n",
    "Please write a program to generate all sentences where subject is in [\"I\", \"You\"] and verb is in [\"Play\", \"Love\"] and the object is in [\"Hockey\",\"Football\"].\n",
    "\n",
    "Hints:\n",
    "Use list[index] notation to get a element from a list."
   ]
  },
  {
   "cell_type": "code",
   "execution_count": 121,
   "id": "07c9e577",
   "metadata": {},
   "outputs": [
    {
     "name": "stdout",
     "output_type": "stream",
     "text": [
      "I Play Hockey.\n",
      "I Play Football.\n",
      "I Love Hockey.\n",
      "I Love Football.\n",
      "You Play Hockey.\n",
      "You Play Football.\n",
      "You Love Hockey.\n",
      "You Love Football.\n"
     ]
    }
   ],
   "source": [
    "subjects=[\"I\", \"You\"]\n",
    "verbs=[\"Play\", \"Love\"]\n",
    "objects=[\"Hockey\",\"Football\"]\n",
    "for i in range(len(subjects)):\n",
    "    for j in range(len(verbs)):\n",
    "        for k in range(len(objects)):\n",
    "            sentence = \"%s %s %s.\" % (subjects[i], verbs[j], objects[k])\n",
    "            print(sentence)"
   ]
  },
  {
   "cell_type": "markdown",
   "id": "50c00a2b",
   "metadata": {},
   "source": [
    "## Question 87\n",
    "Please write a program to print the list after removing delete even numbers in [5,6,77,45,22,12,24].\n",
    "\n",
    "Hints:\n",
    "Use list comprehension to delete a bunch of element from a list.\n"
   ]
  },
  {
   "cell_type": "code",
   "execution_count": 128,
   "id": "2caf9cdf",
   "metadata": {},
   "outputs": [
    {
     "name": "stdout",
     "output_type": "stream",
     "text": [
      "[5, 77, 45]\n"
     ]
    }
   ],
   "source": [
    "li = [5,6,77,45,22,12,24]\n",
    "li = [x for x in li if x%2!=0]\n",
    "print(li)"
   ]
  },
  {
   "cell_type": "markdown",
   "id": "22b4cfe4",
   "metadata": {},
   "source": [
    "## Question 88\n",
    "By using list comprehension, please write a program to print the list after removing delete numbers which are divisible by 5 and 7 in [12,24,35,70,88,120,155].\n",
    "\n",
    "Hints:\n",
    "Use list comprehension to delete a bunch of element from a list."
   ]
  },
  {
   "cell_type": "code",
   "execution_count": 135,
   "id": "98e01595",
   "metadata": {},
   "outputs": [
    {
     "name": "stdout",
     "output_type": "stream",
     "text": [
      "[12, 24, 88]\n"
     ]
    }
   ],
   "source": [
    "li = [12,24,35,70,88,120,155]\n",
    "li = [x for x in li if x%5!=0 and x%7!=0]\n",
    "print(li)"
   ]
  },
  {
   "cell_type": "markdown",
   "id": "39ff3de4",
   "metadata": {},
   "source": [
    "## Question 89\n",
    "By using list comprehension, please write a program to print the list after removing the 0th, 2nd, 4th,6th numbers in [12,24,35,70,88,120,155].\n",
    "\n",
    "Hints:\n",
    "Use list comprehension to delete a bunch of element from a list.\n",
    "Use enumerate() to get (index, value) tuple.\n"
   ]
  },
  {
   "cell_type": "code",
   "execution_count": 138,
   "id": "c31305b5",
   "metadata": {},
   "outputs": [
    {
     "name": "stdout",
     "output_type": "stream",
     "text": [
      "[24, 70, 120]\n"
     ]
    }
   ],
   "source": [
    "li = [12,24,35,70,88,120,155]\n",
    "li = [x for (i,x) in enumerate(li) if i%2!=0]\n",
    "print(li)"
   ]
  },
  {
   "cell_type": "markdown",
   "id": "2e23ba00",
   "metadata": {},
   "source": [
    "## Question 90\n",
    "By using list comprehension, please write a program generate a 3*5*8 3D array whose each element is 0.\n",
    "\n",
    "Hints:\n",
    "Use list comprehension to make an array.\n"
   ]
  },
  {
   "cell_type": "code",
   "execution_count": 141,
   "id": "40071fe6",
   "metadata": {},
   "outputs": [
    {
     "name": "stdout",
     "output_type": "stream",
     "text": [
      "[[[0, 0, 0, 0, 0, 0, 0, 0], [0, 0, 0, 0, 0, 0, 0, 0], [0, 0, 0, 0, 0, 0, 0, 0], [0, 0, 0, 0, 0, 0, 0, 0], [0, 0, 0, 0, 0, 0, 0, 0]], [[0, 0, 0, 0, 0, 0, 0, 0], [0, 0, 0, 0, 0, 0, 0, 0], [0, 0, 0, 0, 0, 0, 0, 0], [0, 0, 0, 0, 0, 0, 0, 0], [0, 0, 0, 0, 0, 0, 0, 0]], [[0, 0, 0, 0, 0, 0, 0, 0], [0, 0, 0, 0, 0, 0, 0, 0], [0, 0, 0, 0, 0, 0, 0, 0], [0, 0, 0, 0, 0, 0, 0, 0], [0, 0, 0, 0, 0, 0, 0, 0]]]\n"
     ]
    }
   ],
   "source": [
    "array = [[ [0 for col in range(8)] for col in range(5)] for row in range(3)]\n",
    "print(array)"
   ]
  },
  {
   "cell_type": "markdown",
   "id": "28bba4e5",
   "metadata": {},
   "source": [
    "## Question 91\n",
    "By using list comprehension, please write a program to print the list after removing the 0th,4th,5th numbers in [12,24,35,70,88,120,155].\n",
    "\n",
    "Hints:\n",
    "Use list comprehension to delete a bunch of element from a list.\n",
    "Use enumerate() to get (index, value) tuple."
   ]
  },
  {
   "cell_type": "code",
   "execution_count": 147,
   "id": "3e6f7158",
   "metadata": {},
   "outputs": [
    {
     "name": "stdout",
     "output_type": "stream",
     "text": [
      "[24, 35, 70, 155]\n"
     ]
    }
   ],
   "source": [
    "li = [12,24,35,70,88,120,155]\n",
    "li = [x for (i,x) in enumerate(li) if i not in (0,4,5)]\n",
    "print(li)"
   ]
  },
  {
   "cell_type": "markdown",
   "id": "3f9a2999",
   "metadata": {},
   "source": [
    "## Question 92\n",
    "By using list comprehension, please write a program to print the list after removing the value 24 in [12,24,35,24,88,120,155].\n",
    "\n",
    "Hints:\n",
    "Use list's remove method to delete a value."
   ]
  },
  {
   "cell_type": "code",
   "execution_count": 150,
   "id": "dd70ea1c",
   "metadata": {},
   "outputs": [
    {
     "name": "stdout",
     "output_type": "stream",
     "text": [
      "[12, 35, 88, 120, 155]\n"
     ]
    }
   ],
   "source": [
    "li = [12,24,35,24,88,120,155]\n",
    "li = [x for x in li if x!=24]\n",
    "print(li)"
   ]
  },
  {
   "cell_type": "markdown",
   "id": "abda01d1",
   "metadata": {},
   "source": [
    "## Question 93\n",
    "With two given lists [1,3,6,78,35,55] and [12,24,35,24,88,120,155], write a program to make a list whose elements are intersection of the above given lists.\n",
    "\n",
    "Hints:\n",
    "Use set() and \"&=\" to do set intersection operation."
   ]
  },
  {
   "cell_type": "code",
   "execution_count": 155,
   "id": "9893b46e",
   "metadata": {},
   "outputs": [
    {
     "name": "stdout",
     "output_type": "stream",
     "text": [
      "[35]\n"
     ]
    }
   ],
   "source": [
    "set1=set([1,3,6,78,35,55])\n",
    "set2=set([12,24,35,24,88,120,155])\n",
    "set1 &= set2\n",
    "li=list(set1)\n",
    "print(li)"
   ]
  },
  {
   "cell_type": "markdown",
   "id": "8c768692",
   "metadata": {},
   "source": [
    "## Question 94\n",
    "With a given list [12,24,35,24,88,120,155,88,120,155], write a program to print this list after removing all duplicate values with original order reserved.\n",
    "\n",
    "Hints:\n",
    "Use set() to store a number of values without duplicate."
   ]
  },
  {
   "cell_type": "code",
   "execution_count": 162,
   "id": "96b45ecd",
   "metadata": {},
   "outputs": [
    {
     "name": "stdout",
     "output_type": "stream",
     "text": [
      "[12, 24, 35, 88, 120, 155]\n"
     ]
    }
   ],
   "source": [
    "def removeDup( li ):\n",
    "    newli=[]\n",
    "    seen = set()\n",
    "    for item in li:\n",
    "        if item not in seen:\n",
    "            seen.add( item )\n",
    "            newli.append(item)\n",
    "\n",
    "    return newli\n",
    "\n",
    "li=[12,24,35,24,88,120,155,88,120,155]\n",
    "print(removeDup(li))"
   ]
  },
  {
   "cell_type": "markdown",
   "id": "b79fd977",
   "metadata": {},
   "source": [
    "## Question 95\n",
    "Define a class Person and its two child classes: Male and Female. All classes have a method \"getGender\" which can print \"Male\" for Male class and \"Female\" for Female class.\n",
    "\n",
    "Hints:\n",
    "Use Subclass(Parentclass) to define a child class."
   ]
  },
  {
   "cell_type": "code",
   "execution_count": 169,
   "id": "5477eda0",
   "metadata": {},
   "outputs": [
    {
     "name": "stdout",
     "output_type": "stream",
     "text": [
      "Male\n",
      "Female\n"
     ]
    }
   ],
   "source": [
    "class Person(object):\n",
    "    def getGender( self ):\n",
    "        return \"Unknown\"\n",
    "\n",
    "class Male( Person ):\n",
    "    def getGender( self ):\n",
    "        return \"Male\"\n",
    "\n",
    "class Female( Person ):\n",
    "    def getGender( self ):\n",
    "        return \"Female\"\n",
    "\n",
    "aMale = Male()\n",
    "aFemale= Female()\n",
    "print(aMale.getGender())\n",
    "print(aFemale.getGender())"
   ]
  },
  {
   "cell_type": "markdown",
   "id": "35cde1f2",
   "metadata": {},
   "source": [
    "## Question 96\n",
    "Please write a program which count and print the numbers of each character in a string input by console.\n",
    "\n",
    "Example:\n",
    "If the following string is given as input to the program:\n",
    "\n",
    "abcdefgabc\n",
    "\n",
    "Then, the output of the program should be:\n",
    "\n",
    "a,2\n",
    "c,2\n",
    "b,2\n",
    "e,1\n",
    "d,1\n",
    "g,1\n",
    "f,1\n",
    "\n",
    "Hints:\n",
    "Use dict to store key/value pairs.\n",
    "Use dict.get() method to lookup a key with default value.\n"
   ]
  },
  {
   "cell_type": "code",
   "execution_count": 172,
   "id": "0bdf7a1b",
   "metadata": {},
   "outputs": [
    {
     "name": "stdout",
     "output_type": "stream",
     "text": [
      "abcdefgabc\n",
      "a,2\n",
      "b,2\n",
      "c,2\n",
      "d,1\n",
      "e,1\n",
      "f,1\n",
      "g,1\n"
     ]
    }
   ],
   "source": [
    "dic = {}\n",
    "s=input()\n",
    "for s in s:\n",
    "    dic[s] = dic.get(s,0)+1\n",
    "print('\\n'.join(['%s,%s' % (k, v) for k, v in dic.items()]))"
   ]
  },
  {
   "cell_type": "markdown",
   "id": "34243f02",
   "metadata": {},
   "source": [
    "## Question 97\n",
    "Please write a program which accepts a string from console and print it in reverse order.\n",
    "\n",
    "Example:\n",
    "If the following string is given as input to the program:\n",
    "\n",
    "rise to vote sir\n",
    "\n",
    "Then, the output of the program should be:\n",
    "\n",
    "ris etov ot esir\n",
    "\n",
    "Hints:\n",
    "Use list[::-1] to iterate a list in a reverse order.\n"
   ]
  },
  {
   "cell_type": "code",
   "execution_count": 173,
   "id": "5e0ec819",
   "metadata": {},
   "outputs": [
    {
     "name": "stdout",
     "output_type": "stream",
     "text": [
      "rise to vote sir\n",
      "ris etov ot esir\n"
     ]
    }
   ],
   "source": [
    "s=input()\n",
    "s = s[::-1]\n",
    "print(s)"
   ]
  },
  {
   "cell_type": "markdown",
   "id": "6fcc4099",
   "metadata": {},
   "source": [
    "## Question 98\n",
    "Please write a program which accepts a string from console and print the characters that have even indexes.\n",
    "\n",
    "Example:\n",
    "If the following string is given as input to the program:\n",
    "\n",
    "H1e2l3l4o5w6o7r8l9d\n",
    "\n",
    "Then, the output of the program should be:\n",
    "\n",
    "Helloworld\n",
    "\n",
    "Hints:\n",
    "Use list[::2] to iterate a list by step 2.\n"
   ]
  },
  {
   "cell_type": "code",
   "execution_count": 175,
   "id": "aba882b4",
   "metadata": {},
   "outputs": [
    {
     "name": "stdout",
     "output_type": "stream",
     "text": [
      "H1e2l3l4o5w6o7r8l9d\n",
      "Helloworld\n"
     ]
    }
   ],
   "source": [
    "s=input()\n",
    "s = s[::2]\n",
    "print(s)"
   ]
  },
  {
   "cell_type": "markdown",
   "id": "f37418cd",
   "metadata": {},
   "source": [
    "## Question 99\n",
    "Please write a program which prints all permutations of [1,2,3]\n",
    "\n",
    "Hints:\n",
    "Use itertools.permutations() to get permutations of list.\n"
   ]
  },
  {
   "cell_type": "code",
   "execution_count": 177,
   "id": "29275712",
   "metadata": {},
   "outputs": [
    {
     "name": "stdout",
     "output_type": "stream",
     "text": [
      "[(1, 2, 3), (1, 3, 2), (2, 1, 3), (2, 3, 1), (3, 1, 2), (3, 2, 1)]\n"
     ]
    }
   ],
   "source": [
    "import itertools\n",
    "print(list(itertools.permutations([1,2,3])))"
   ]
  },
  {
   "cell_type": "markdown",
   "id": "c71f0496",
   "metadata": {},
   "source": [
    "## Question 100\n",
    "Write a program to solve a classic ancient Chinese puzzle: \n",
    "We count 35 heads and 94 legs among the chickens and rabbits in a farm. How many rabbits and how many chickens do we have?\n",
    "\n",
    "Hint:\n",
    "Use for loop to iterate all possible solutions."
   ]
  },
  {
   "cell_type": "code",
   "execution_count": 181,
   "id": "ba8d031f",
   "metadata": {},
   "outputs": [
    {
     "name": "stdout",
     "output_type": "stream",
     "text": [
      "(23, 12)\n"
     ]
    }
   ],
   "source": [
    "def solve(numheads,numlegs):\n",
    "    ns='No solutions!'\n",
    "    for i in range(numheads+1):\n",
    "        j=numheads-i\n",
    "        if 2*i+4*j==numlegs:\n",
    "            return i,j\n",
    "    return ns,ns\n",
    "\n",
    "numheads=35\n",
    "numlegs=94\n",
    "solutions=solve(numheads,numlegs)\n",
    "print(solutions)"
   ]
  }
 ],
 "metadata": {
  "kernelspec": {
   "display_name": "Python 3",
   "language": "python",
   "name": "python3"
  },
  "language_info": {
   "codemirror_mode": {
    "name": "ipython",
    "version": 3
   },
   "file_extension": ".py",
   "mimetype": "text/x-python",
   "name": "python",
   "nbconvert_exporter": "python",
   "pygments_lexer": "ipython3",
   "version": "3.8.8"
  }
 },
 "nbformat": 4,
 "nbformat_minor": 5
}
