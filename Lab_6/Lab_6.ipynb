{
 "cells": [
  {
   "cell_type": "markdown",
   "id": "5d864361",
   "metadata": {},
   "source": [
    "<div style=\"font-style: bold; text-align: center;\">\n",
    "<img src=\"https://www.ewubd.edu/themes/east-west-university/assets/default/images/logo.png\" alt=\"ERROR\" title=\"EWULOGO\" width=\":5.72917in\"/>Department: Computer Science & Engineering\n",
    "<br><br><br>\n",
    "</div>\n",
    "\n",
    "<div style=\"font-style:underline; text-align: center;\" markdown=\"1\">\n",
    "\n",
    "# Assignment – Lab 6\n",
    "<br><br>\n",
    "<br><br>\n",
    "\n",
    "</div>\n",
    "\n",
    "\n",
    "<div style=\"font-style: bold; text-align: left;\" markdown=\"1\">\n",
    "\n",
    "## Semester : Fall 2021\n",
    "\n",
    "## Course Number : CSE366\n",
    "\n",
    "## Course Title : Artificial Intelligence\n",
    "\n",
    "## Course Instructor : Md Al-Imran\n",
    "\n",
    "<br><br>\n",
    "<br><br>\n",
    "<br><br>\n",
    "<br><br>\n",
    "\n",
    "## > student ID: 2019-1-60-093\n",
    "## > Student Name: Md. Asad Chowdhury Dipu\n",
    "## > Section: 01\n",
    "## > Date of Submission: 17/12/2021\n",
    "<br>\n",
    "</div>"
   ]
  },
  {
   "cell_type": "code",
   "execution_count": 54,
   "id": "db618d7c",
   "metadata": {},
   "outputs": [
    {
     "name": "stdout",
     "output_type": "stream",
     "text": [
      "Requirement already satisfied: sympy in c:\\programdata\\anaconda3\\lib\\site-packages (1.8)\n",
      "Requirement already satisfied: mpmath>=0.19 in c:\\programdata\\anaconda3\\lib\\site-packages (from sympy) (1.2.1)\n",
      "Note: you may need to restart the kernel to use updated packages.\n"
     ]
    }
   ],
   "source": [
    "pip install sympy"
   ]
  },
  {
   "cell_type": "code",
   "execution_count": 6,
   "id": "02d742f4",
   "metadata": {},
   "outputs": [
    {
     "name": "stdout",
     "output_type": "stream",
     "text": [
      "Requirement already satisfied: kanren in c:\\programdata\\anaconda3\\lib\\site-packages (0.2.3)\n",
      "Requirement already satisfied: unification in c:\\programdata\\anaconda3\\lib\\site-packages (from kanren) (0.2.2)\n",
      "Requirement already satisfied: toolz in c:\\programdata\\anaconda3\\lib\\site-packages (from kanren) (0.11.1)\n",
      "Requirement already satisfied: multipledispatch in c:\\programdata\\anaconda3\\lib\\site-packages (from kanren) (0.6.0)\n",
      "Requirement already satisfied: six in c:\\programdata\\anaconda3\\lib\\site-packages (from multipledispatch->kanren) (1.15.0)\n",
      "Note: you may need to restart the kernel to use updated packages.\n"
     ]
    }
   ],
   "source": [
    "pip install kanren"
   ]
  },
  {
   "cell_type": "markdown",
   "id": "369db32e",
   "metadata": {},
   "source": [
    "## Create a JSON file named relationships to show parent-child relation:"
   ]
  },
  {
   "cell_type": "markdown",
   "id": "cfb50cae",
   "metadata": {},
   "source": [
    "{\n",
    "\"father\":\n",
    "[\n",
    "{\"John\": \"William\"},\n",
    "{\"John\": \"David\"},\n",
    "{\"John\": \"Adam\"},\n",
    "{\"William\": \"Chris\"},\n",
    "{\"William\": \"Stephanie\"},\n",
    "{\"David\": \"Wayne\"},\n",
    "{\"David\": \"Tiffany\"},\n",
    "{\"David\": \"Julie\"},\n",
    "{\"David\": \"Neil\"},\n",
    "{\"David\": \"Peter\"},\n",
    "{\"Adam\": \"Sophia\"}\n",
    "],\n",
    "\"mother\":\n",
    "[\n",
    "{\"Megan\": \"William\"},\n",
    "{\"Megan\": \"David\"},{\"Megan\": \"Adam\"},\n",
    "{\"Emma\": \"Stephanie\"},\n",
    "{\"Emma\": \"Chris\"},\n",
    "{\"Olivia\": \"Tiffany\"},\n",
    "{\"Olivia\": \"Julie\"},\n",
    "{\"Olivia\": \"Neil\"},\n",
    "{\"Olivia\": \"Peter\"},\n",
    "{\"Lily\": \"Sophia\"}\n",
    "]\n",
    "}"
   ]
  },
  {
   "cell_type": "code",
   "execution_count": 27,
   "id": "a7e516f8",
   "metadata": {},
   "outputs": [],
   "source": [
    "import json\n",
    "from kanren import Relation, facts, conde, run, eq, var"
   ]
  },
  {
   "cell_type": "markdown",
   "id": "bb22a9b0",
   "metadata": {},
   "source": [
    "## Define a function to check if x is the parent of y.\n",
    "We will use the logic that if x is\n",
    "the parent of y, then x is either the father or the mother."
   ]
  },
  {
   "cell_type": "code",
   "execution_count": 28,
   "id": "595b89cb",
   "metadata": {},
   "outputs": [],
   "source": [
    "# Check if 'x' is the parent of 'y'\n",
    "def parent(x, y):\n",
    "    return conde([father(x, y)], [mother(x, y)])"
   ]
  },
  {
   "cell_type": "markdown",
   "id": "94a848af",
   "metadata": {},
   "source": [
    "## Define a function to check if x is the grandparent of y.\n",
    "We will use the logic that if\n",
    "x is the grandparent of y, then the offspring of x will be the parent of y:"
   ]
  },
  {
   "cell_type": "code",
   "execution_count": 29,
   "id": "df12ef7a",
   "metadata": {},
   "outputs": [],
   "source": [
    "# Check if 'x' is the grandparent of 'y'\n",
    "def grandparent(x, y):\n",
    "    temp = var()\n",
    "    return conde((parent(x, temp), parent(temp, y)))"
   ]
  },
  {
   "cell_type": "markdown",
   "id": "0a86a6b9",
   "metadata": {},
   "source": [
    "## Define a function to check if x is the sibling of y.\n",
    "We will use the logic that if x is the\n",
    "sibling of y, then x and y will have the same parents. Notice that there is a slight\n",
    "modification needed here because when we list out all the siblings of x, x will be\n",
    "listed as well because x satisfies these conditions. So, when we print the output,\n",
    "we will have to remove x from the list."
   ]
  },
  {
   "cell_type": "code",
   "execution_count": 30,
   "id": "5a327891",
   "metadata": {},
   "outputs": [],
   "source": [
    "# Check for sibling relationship between 'a' and 'b'\n",
    "def sibling(x, y):\n",
    "    temp = var()\n",
    "    return conde((parent(temp, x), parent(temp, y)))"
   ]
  },
  {
   "cell_type": "markdown",
   "id": "6fb995ad",
   "metadata": {},
   "source": [
    "## Define a function to check if x is y's uncle.\n",
    "We will use the logic that if x is y's uncle,\n",
    "then x grandparents will be the same as y's parents. Notice that there is a slight\n",
    "modification needed here because when we list out all the uncles of x, x's father will\n",
    "be listed as well because x's father satisfies these conditions. So, when we print the\n",
    "output, we will have to remove x's father from the list."
   ]
  },
  {
   "cell_type": "code",
   "execution_count": 31,
   "id": "1c050874",
   "metadata": {},
   "outputs": [],
   "source": [
    "# Check if x is y's uncle\n",
    "def uncle(x, y):\n",
    "    temp = var()\n",
    "    return conde((father(temp, x), grandparent(temp, y)))"
   ]
  },
  {
   "cell_type": "markdown",
   "id": "d5a79b7a",
   "metadata": {},
   "source": [
    "## Define the main function and initialize the relations father and mother:"
   ]
  },
  {
   "cell_type": "code",
   "execution_count": 32,
   "id": "fdbb085b",
   "metadata": {},
   "outputs": [],
   "source": [
    "if __name__=='__main__':\n",
    "    father = Relation()\n",
    "    mother = Relation()"
   ]
  },
  {
   "cell_type": "markdown",
   "id": "13911032",
   "metadata": {},
   "source": [
    "## Load the data from the relationships.json file:"
   ]
  },
  {
   "cell_type": "code",
   "execution_count": 33,
   "id": "fefbfd3d",
   "metadata": {},
   "outputs": [],
   "source": [
    "with open('lab_6.json') as f:\n",
    "    d = json.loads(f.read())"
   ]
  },
  {
   "cell_type": "markdown",
   "id": "63f9f1b6",
   "metadata": {},
   "source": [
    "## Read the data and add it to the fact base:"
   ]
  },
  {
   "cell_type": "code",
   "execution_count": 34,
   "id": "390f07e3",
   "metadata": {},
   "outputs": [],
   "source": [
    "for item in d['father']:\n",
    "    facts(father, (list(item.keys())[0], list(item.values())[0]))\n",
    "    \n",
    "for item in d['mother']:\n",
    "    facts(mother, (list(item.keys())[0], list(item.values())[0]))"
   ]
  },
  {
   "cell_type": "markdown",
   "id": "2a561b7e",
   "metadata": {},
   "source": [
    "## Define the variable x:"
   ]
  },
  {
   "cell_type": "code",
   "execution_count": 35,
   "id": "02a704bd",
   "metadata": {},
   "outputs": [],
   "source": [
    "x = var()"
   ]
  },
  {
   "cell_type": "markdown",
   "id": "9da6490c",
   "metadata": {},
   "source": [
    "We are now ready to ask some questions and see if the solver can come up with the\n",
    "right answers."
   ]
  },
  {
   "cell_type": "markdown",
   "id": "a3986301",
   "metadata": {},
   "source": [
    "### Let's ask who John's children are:"
   ]
  },
  {
   "cell_type": "code",
   "execution_count": 37,
   "id": "3ef01c61",
   "metadata": {},
   "outputs": [
    {
     "name": "stdout",
     "output_type": "stream",
     "text": [
      "\n",
      "List of John's children:\n",
      "William\n",
      "Adam\n",
      "David\n"
     ]
    }
   ],
   "source": [
    "# John's children\n",
    "name = 'John'\n",
    "output = run(0, x, father(name, x))\n",
    "print(\"\\nList of \" + name + \"'s children:\")\n",
    "for item in output:\n",
    "    print(item)"
   ]
  },
  {
   "cell_type": "markdown",
   "id": "e033e5f2",
   "metadata": {},
   "source": [
    "### Who is William's mother?"
   ]
  },
  {
   "cell_type": "code",
   "execution_count": 38,
   "id": "a9d05c29",
   "metadata": {},
   "outputs": [
    {
     "name": "stdout",
     "output_type": "stream",
     "text": [
      "\n",
      "William's mother:\n",
      "Megan\n"
     ]
    }
   ],
   "source": [
    "# William's mother\n",
    "name = 'William'\n",
    "output = run(0, x, mother(x, name))[0]\n",
    "print(\"\\n\" + name + \"'s mother:\\n\" + output)"
   ]
  },
  {
   "cell_type": "markdown",
   "id": "f1e74e1a",
   "metadata": {},
   "source": [
    "### Who are Adam's parents?"
   ]
  },
  {
   "cell_type": "code",
   "execution_count": 39,
   "id": "ac51d2e0",
   "metadata": {},
   "outputs": [
    {
     "name": "stdout",
     "output_type": "stream",
     "text": [
      "\n",
      "List of William's parents:\n",
      "John\n",
      "Megan\n"
     ]
    }
   ],
   "source": [
    "# Adam's parents name = 'Adam'\n",
    "output = run(0, x, parent(x, name))\n",
    "print(\"\\nList of \" + name + \"'s parents:\")\n",
    "for item in output:\n",
    "    print(item)"
   ]
  },
  {
   "cell_type": "markdown",
   "id": "38e6a4a2",
   "metadata": {},
   "source": [
    "### Who are Wayne's grandparents?"
   ]
  },
  {
   "cell_type": "code",
   "execution_count": 41,
   "id": "aa2a0cf1",
   "metadata": {},
   "outputs": [
    {
     "name": "stdout",
     "output_type": "stream",
     "text": [
      "\n",
      "List of William's grandparents:\n"
     ]
    }
   ],
   "source": [
    "# Wayne's grandparents name = 'Wayne'\n",
    "output = run(0, x, grandparent(x, name))\n",
    "print(\"\\nList of \" + name + \"'s grandparents:\")\n",
    "for item in output:\n",
    "    print(item)"
   ]
  },
  {
   "cell_type": "markdown",
   "id": "e311b109",
   "metadata": {},
   "source": [
    "### Who are Megan's grandchildren?"
   ]
  },
  {
   "cell_type": "code",
   "execution_count": 43,
   "id": "4c8083e3",
   "metadata": {},
   "outputs": [
    {
     "name": "stdout",
     "output_type": "stream",
     "text": [
      "\n",
      "List of Megan's grandchildren:\n",
      "Chris\n",
      "Tiffany\n",
      "Sophia\n",
      "Stephanie\n",
      "Wayne\n",
      "Neil\n",
      "Peter\n",
      "Julie\n"
     ]
    }
   ],
   "source": [
    "# Megan's grandchildren\n",
    "name = 'Megan'\n",
    "output = run(0, x, grandparent(name, x))\n",
    "print(\"\\nList of \" + name + \"'s grandchildren:\")\n",
    "for item in output:\n",
    "    print(item)"
   ]
  },
  {
   "cell_type": "markdown",
   "id": "9f8f03f6",
   "metadata": {},
   "source": [
    "### Who are David's siblings?"
   ]
  },
  {
   "cell_type": "code",
   "execution_count": 44,
   "id": "b21838cd",
   "metadata": {},
   "outputs": [
    {
     "name": "stdout",
     "output_type": "stream",
     "text": [
      "\n",
      "List of David's siblings:\n",
      "William\n",
      "Adam\n"
     ]
    }
   ],
   "source": [
    "# David's siblings\n",
    "name = 'David'\n",
    "output = run(0, x, sibling(x, name))\n",
    "siblings = [x for x in output if x != name]\n",
    "print(\"\\nList of \" + name + \"'s siblings:\")\n",
    "for item in siblings:\n",
    "    print(item)"
   ]
  },
  {
   "cell_type": "markdown",
   "id": "e9e9ef26",
   "metadata": {},
   "source": [
    "### Who are Tiffany's uncles?"
   ]
  },
  {
   "cell_type": "code",
   "execution_count": 46,
   "id": "03ed992f",
   "metadata": {},
   "outputs": [
    {
     "name": "stdout",
     "output_type": "stream",
     "text": [
      "\n",
      "List of Tiffany's uncles:\n",
      "William\n",
      "Adam\n"
     ]
    }
   ],
   "source": [
    "# Tiffany's uncles\n",
    "name = 'Tiffany'\n",
    "name_father = run(0, x, father(x, name))[0]\n",
    "output = run(0, x, uncle(x, name))\n",
    "output = [x for x in output if x != name_father]\n",
    "print(\"\\nList of \" + name + \"'s uncles:\")\n",
    "for item in output:\n",
    "    print(item)"
   ]
  },
  {
   "cell_type": "markdown",
   "id": "88e86d55",
   "metadata": {},
   "source": [
    "### List all of the spouses in the family:"
   ]
  },
  {
   "cell_type": "code",
   "execution_count": 47,
   "id": "17f2c75f",
   "metadata": {},
   "outputs": [
    {
     "name": "stdout",
     "output_type": "stream",
     "text": [
      "\n",
      "List of all spouses:\n",
      "Husband: William <==> Wife: Emma\n",
      "Husband: David <==> Wife: Olivia\n",
      "Husband: John <==> Wife: Megan\n",
      "Husband: Adam <==> Wife: Lily\n"
     ]
    }
   ],
   "source": [
    "# All spouses\n",
    "a, b, c = var(), var(), var()\n",
    "output = run(0, (a, b), (father, a, c), (mother, b, c))\n",
    "print(\"\\nList of all spouses:\")\n",
    "for item in output:\n",
    "    print('Husband:', item[0], '<==> Wife:', item[1])"
   ]
  }
 ],
 "metadata": {
  "kernelspec": {
   "display_name": "Python 3",
   "language": "python",
   "name": "python3"
  },
  "language_info": {
   "codemirror_mode": {
    "name": "ipython",
    "version": 3
   },
   "file_extension": ".py",
   "mimetype": "text/x-python",
   "name": "python",
   "nbconvert_exporter": "python",
   "pygments_lexer": "ipython3",
   "version": "3.8.8"
  }
 },
 "nbformat": 4,
 "nbformat_minor": 5
}
