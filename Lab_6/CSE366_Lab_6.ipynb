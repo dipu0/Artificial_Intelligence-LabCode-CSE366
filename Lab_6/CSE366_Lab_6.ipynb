{
 "cells": [
  {
   "cell_type": "code",
   "execution_count": 54,
   "id": "db618d7c",
   "metadata": {},
   "outputs": [
    {
     "name": "stdout",
     "output_type": "stream",
     "text": [
      "Requirement already satisfied: sympy in c:\\programdata\\anaconda3\\lib\\site-packages (1.8)\n",
      "Requirement already satisfied: mpmath>=0.19 in c:\\programdata\\anaconda3\\lib\\site-packages (from sympy) (1.2.1)\n",
      "Note: you may need to restart the kernel to use updated packages.\n"
     ]
    }
   ],
   "source": [
    "pip install sympy"
   ]
  },
  {
   "cell_type": "code",
   "execution_count": 6,
   "id": "02d742f4",
   "metadata": {},
   "outputs": [
    {
     "name": "stdout",
     "output_type": "stream",
     "text": [
      "Requirement already satisfied: kanren in c:\\programdata\\anaconda3\\lib\\site-packages (0.2.3)\n",
      "Requirement already satisfied: unification in c:\\programdata\\anaconda3\\lib\\site-packages (from kanren) (0.2.2)\n",
      "Requirement already satisfied: toolz in c:\\programdata\\anaconda3\\lib\\site-packages (from kanren) (0.11.1)\n",
      "Requirement already satisfied: multipledispatch in c:\\programdata\\anaconda3\\lib\\site-packages (from kanren) (0.6.0)\n",
      "Requirement already satisfied: six in c:\\programdata\\anaconda3\\lib\\site-packages (from multipledispatch->kanren) (1.15.0)\n",
      "Note: you may need to restart the kernel to use updated packages.\n"
     ]
    }
   ],
   "source": [
    "pip install kanren"
   ]
  },
  {
   "cell_type": "code",
   "execution_count": 27,
   "id": "a7e516f8",
   "metadata": {},
   "outputs": [],
   "source": [
    "import json\n",
    "from kanren import Relation, facts, conde, run, eq, var"
   ]
  },
  {
   "cell_type": "code",
   "execution_count": 28,
   "id": "595b89cb",
   "metadata": {},
   "outputs": [],
   "source": [
    "# Check if 'x' is the parent of 'y'\n",
    "def parent(x, y):\n",
    "    return conde([father(x, y)], [mother(x, y)])"
   ]
  },
  {
   "cell_type": "code",
   "execution_count": 29,
   "id": "df12ef7a",
   "metadata": {},
   "outputs": [],
   "source": [
    "# Check if 'x' is the grandparent of 'y'\n",
    "def grandparent(x, y):\n",
    "    temp = var()\n",
    "    return conde((parent(x, temp), parent(temp, y)))"
   ]
  },
  {
   "cell_type": "code",
   "execution_count": 30,
   "id": "5a327891",
   "metadata": {},
   "outputs": [],
   "source": [
    "# Check for sibling relationship between 'a' and 'b'\n",
    "def sibling(x, y):\n",
    "    temp = var()\n",
    "    return conde((parent(temp, x), parent(temp, y)))"
   ]
  },
  {
   "cell_type": "code",
   "execution_count": 31,
   "id": "1c050874",
   "metadata": {},
   "outputs": [],
   "source": [
    "# Check if x is y's uncle\n",
    "def uncle(x, y):\n",
    "    temp = var()\n",
    "    return conde((father(temp, x), grandparent(temp, y)))"
   ]
  },
  {
   "cell_type": "code",
   "execution_count": 32,
   "id": "fdbb085b",
   "metadata": {},
   "outputs": [],
   "source": [
    "if __name__=='__main__':\n",
    "    father = Relation()\n",
    "    mother = Relation()"
   ]
  },
  {
   "cell_type": "code",
   "execution_count": 33,
   "id": "fefbfd3d",
   "metadata": {},
   "outputs": [],
   "source": [
    "with open('lab_6.json') as f:\n",
    "    d = json.loads(f.read())"
   ]
  },
  {
   "cell_type": "code",
   "execution_count": 34,
   "id": "390f07e3",
   "metadata": {},
   "outputs": [],
   "source": [
    "for item in d['father']:\n",
    "    facts(father, (list(item.keys())[0], list(item.values())[0]))\n",
    "    \n",
    "for item in d['mother']:\n",
    "    facts(mother, (list(item.keys())[0], list(item.values())[0]))"
   ]
  },
  {
   "cell_type": "code",
   "execution_count": 35,
   "id": "02a704bd",
   "metadata": {},
   "outputs": [],
   "source": [
    "x = var()"
   ]
  },
  {
   "cell_type": "code",
   "execution_count": 37,
   "id": "3ef01c61",
   "metadata": {},
   "outputs": [
    {
     "name": "stdout",
     "output_type": "stream",
     "text": [
      "\n",
      "List of John's children:\n",
      "William\n",
      "Adam\n",
      "David\n"
     ]
    }
   ],
   "source": [
    "# John's children\n",
    "name = 'John'\n",
    "output = run(0, x, father(name, x))\n",
    "print(\"\\nList of \" + name + \"'s children:\")\n",
    "for item in output:\n",
    "    print(item)"
   ]
  },
  {
   "cell_type": "code",
   "execution_count": 38,
   "id": "a9d05c29",
   "metadata": {},
   "outputs": [
    {
     "name": "stdout",
     "output_type": "stream",
     "text": [
      "\n",
      "William's mother:\n",
      "Megan\n"
     ]
    }
   ],
   "source": [
    "# William's mother\n",
    "name = 'William'\n",
    "output = run(0, x, mother(x, name))[0]\n",
    "print(\"\\n\" + name + \"'s mother:\\n\" + output)"
   ]
  },
  {
   "cell_type": "code",
   "execution_count": 39,
   "id": "ac51d2e0",
   "metadata": {},
   "outputs": [
    {
     "name": "stdout",
     "output_type": "stream",
     "text": [
      "\n",
      "List of William's parents:\n",
      "John\n",
      "Megan\n"
     ]
    }
   ],
   "source": [
    "# Adam's parents name = 'Adam'\n",
    "output = run(0, x, parent(x, name))\n",
    "print(\"\\nList of \" + name + \"'s parents:\")\n",
    "for item in output:\n",
    "    print(item)"
   ]
  },
  {
   "cell_type": "code",
   "execution_count": 41,
   "id": "aa2a0cf1",
   "metadata": {},
   "outputs": [
    {
     "name": "stdout",
     "output_type": "stream",
     "text": [
      "\n",
      "List of William's grandparents:\n"
     ]
    }
   ],
   "source": [
    "# Wayne's grandparents name = 'Wayne'\n",
    "output = run(0, x, grandparent(x, name))\n",
    "print(\"\\nList of \" + name + \"'s grandparents:\")\n",
    "for item in output:\n",
    "    print(item)"
   ]
  },
  {
   "cell_type": "code",
   "execution_count": 43,
   "id": "4c8083e3",
   "metadata": {},
   "outputs": [
    {
     "name": "stdout",
     "output_type": "stream",
     "text": [
      "\n",
      "List of Megan's grandchildren:\n",
      "Chris\n",
      "Tiffany\n",
      "Sophia\n",
      "Stephanie\n",
      "Wayne\n",
      "Neil\n",
      "Peter\n",
      "Julie\n"
     ]
    }
   ],
   "source": [
    "# Megan's grandchildren\n",
    "name = 'Megan'\n",
    "output = run(0, x, grandparent(name, x))\n",
    "print(\"\\nList of \" + name + \"'s grandchildren:\")\n",
    "for item in output:\n",
    "    print(item)"
   ]
  },
  {
   "cell_type": "code",
   "execution_count": 44,
   "id": "b21838cd",
   "metadata": {},
   "outputs": [
    {
     "name": "stdout",
     "output_type": "stream",
     "text": [
      "\n",
      "List of David's siblings:\n",
      "William\n",
      "Adam\n"
     ]
    }
   ],
   "source": [
    "# David's siblings\n",
    "name = 'David'\n",
    "output = run(0, x, sibling(x, name))\n",
    "siblings = [x for x in output if x != name]\n",
    "print(\"\\nList of \" + name + \"'s siblings:\")\n",
    "for item in siblings:\n",
    "    print(item)"
   ]
  },
  {
   "cell_type": "code",
   "execution_count": 46,
   "id": "03ed992f",
   "metadata": {},
   "outputs": [
    {
     "name": "stdout",
     "output_type": "stream",
     "text": [
      "\n",
      "List of Tiffany's uncles:\n",
      "William\n",
      "Adam\n"
     ]
    }
   ],
   "source": [
    "# Tiffany's uncles\n",
    "name = 'Tiffany'\n",
    "name_father = run(0, x, father(x, name))[0]\n",
    "output = run(0, x, uncle(x, name))\n",
    "output = [x for x in output if x != name_father]\n",
    "print(\"\\nList of \" + name + \"'s uncles:\")\n",
    "for item in output:\n",
    "    print(item)"
   ]
  },
  {
   "cell_type": "code",
   "execution_count": 47,
   "id": "17f2c75f",
   "metadata": {},
   "outputs": [
    {
     "name": "stdout",
     "output_type": "stream",
     "text": [
      "\n",
      "List of all spouses:\n",
      "Husband: William <==> Wife: Emma\n",
      "Husband: David <==> Wife: Olivia\n",
      "Husband: John <==> Wife: Megan\n",
      "Husband: Adam <==> Wife: Lily\n"
     ]
    }
   ],
   "source": [
    "# All spouses\n",
    "a, b, c = var(), var(), var()\n",
    "output = run(0, (a, b), (father, a, c), (mother, b, c))\n",
    "print(\"\\nList of all spouses:\")\n",
    "for item in output:\n",
    "    print('Husband:', item[0], '<==> Wife:', item[1])"
   ]
  }
 ],
 "metadata": {
  "kernelspec": {
   "display_name": "Python 3",
   "language": "python",
   "name": "python3"
  },
  "language_info": {
   "codemirror_mode": {
    "name": "ipython",
    "version": 3
   },
   "file_extension": ".py",
   "mimetype": "text/x-python",
   "name": "python",
   "nbconvert_exporter": "python",
   "pygments_lexer": "ipython3",
   "version": "3.8.8"
  }
 },
 "nbformat": 4,
 "nbformat_minor": 5
}
