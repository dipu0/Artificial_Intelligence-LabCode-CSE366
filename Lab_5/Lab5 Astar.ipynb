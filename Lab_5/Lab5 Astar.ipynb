{
 "cells": [
  {
   "cell_type": "markdown",
   "id": "52de72fd",
   "metadata": {},
   "source": [
    "# A*"
   ]
  },
  {
   "cell_type": "code",
   "execution_count": 1,
   "id": "fb7072fd",
   "metadata": {
    "scrolled": true
   },
   "outputs": [],
   "source": [
    "def aStar(start, stop):\n",
    "    open_set = set([start])\n",
    "    closed_set = set([])\n",
    "    g = {}\n",
    "    parents = {}\n",
    "    g[start] = 0\n",
    "    parents[start] = start\n",
    "\n",
    "    while len(open_set) > 0:\n",
    "        n = None\n",
    "        for v in open_set:\n",
    "            if n == None or g[v] + heuristic(v) < g[n] + heuristic(n):\n",
    "                n = v\n",
    "                \n",
    "        if n == stop or graph_nodes[n] == None:\n",
    "            pass\n",
    "        \n",
    "        else:\n",
    "            \n",
    "            for(m, weight) in get_neighbors(n):\n",
    "                if m not in open_set and m not in closed_set:\n",
    "                    open_set.add(m)\n",
    "                    parents[m] = n\n",
    "                    g[m] = g[n] + weight\n",
    "            else:\n",
    "                if g[m] > g[n] + weight:\n",
    "                    g[m] = g[n] + weight\n",
    "                    parents[m] = n\n",
    "\n",
    "                    if m in closed_set:\n",
    "                        closed_set.remove(m)\n",
    "                        open_set.add(m)\n",
    "            \n",
    "        if n == None:\n",
    "            print ('Path des not exist')\n",
    "            return None\n",
    "        if n == stop:\n",
    "            path = []\n",
    "\n",
    "            while parents[n] != n:\n",
    "                path.append(n)\n",
    "                n = parents[n]\n",
    "            path.append(start)\n",
    "            path.reverse()\n",
    "            \n",
    "            print(\"Path found: {}\".format(path))\n",
    "            return path\n",
    "\n",
    "        open_set.remove(n)\n",
    "        closed_set.add(n)\n",
    "    print('path does not exist')\n",
    "    return                         "
   ]
  },
  {
   "cell_type": "code",
   "execution_count": 2,
   "id": "0a44eb3e",
   "metadata": {},
   "outputs": [],
   "source": [
    "def get_neighbors(v):\n",
    "    if v in graph_nodes:\n",
    "        return graph_nodes[v]\n",
    "    else:\n",
    "        return None"
   ]
  },
  {
   "cell_type": "code",
   "execution_count": 3,
   "id": "3e9cb6be",
   "metadata": {},
   "outputs": [],
   "source": [
    "def heuristic(n):\n",
    "    h_dist = {\n",
    "        'Arad' : 366,\n",
    "        'Zerind' : 374,\n",
    "        'Timisoara' : 329,\n",
    "        'Sibiu' : 253,\n",
    "        'Oradea' : 380,\n",
    "        'Lugoj' : 244,\n",
    "        'RimnicuVilcea' : 193,\n",
    "        'Mehadia' : 241,\n",
    "        'Craiova' : 160,\n",
    "        'Pitesti' : 98,\n",
    "        'Fagaras' : 178,\n",
    "        'Dobreta' : 242,\n",
    "        'Bucharest' : 0,\n",
    "        'Giurgiu' : 77,\n",
    "    }\n",
    "    return h_dist[n]"
   ]
  },
  {
   "cell_type": "code",
   "execution_count": 4,
   "id": "8b7010c5",
   "metadata": {},
   "outputs": [],
   "source": [
    "graph_nodes = {\n",
    "        \n",
    "    'Arad' : [('Zerind', 75), ('Timisoara', 118), ('Sibiu', 140)],\n",
    "    'Zerind' : [('Oradea', 71), ('Arad', 75)],\n",
    "    'Timisoara' : [('Arad', 118), ('Lugoj', 111)],\n",
    "    'Sibiu' : [('Arad', 140), ('Oradea', 151), ('Fagaras', 99), ('RimnicuVilcea', 80)],\n",
    "    'Oradea' : [('Zerind', 71), ('Sibiu', 151)],\n",
    "    'Lugoj' : [('Timisoara', 111), ('Mehadia', 70)],\n",
    "    'RimnicuVilcea' : [('Sibiu', 80), ('Pitesti', 97), ('Craiova', 146)],\n",
    "    'Mehadia' : [('Lugoj', 70), ('Dobreta', 75)],\n",
    "    'Craiova' : [('Dobreta', 120), ('RimnicuVilcea', 146), ('Pitesti', 138)],\n",
    "    'Pitesti' : [('RimnicuVilcea', 97), ('Craiova', 138), ('Bucharest', 101)],\n",
    "    'Fagaras' : [('Sibiu', 99), ('Bucharest', 211)],\n",
    "    'Dobreta' : [('Mehadia', 75), ('Craiova', 120)],\n",
    "    'Bucharest' : [('Fagaras', 211), ('Pitesti', 101), ('Giurgiu', 90)],\n",
    "    'Giurgiu' : [('Bucharest', 90)],\n",
    "}"
   ]
  },
  {
   "cell_type": "code",
   "execution_count": 5,
   "id": "5956a432",
   "metadata": {},
   "outputs": [
    {
     "name": "stdout",
     "output_type": "stream",
     "text": [
      "Path found: ['Arad', 'Sibiu', 'RimnicuVilcea', 'Pitesti', 'Bucharest']\n"
     ]
    },
    {
     "data": {
      "text/plain": [
       "['Arad', 'Sibiu', 'RimnicuVilcea', 'Pitesti', 'Bucharest']"
      ]
     },
     "execution_count": 5,
     "metadata": {},
     "output_type": "execute_result"
    }
   ],
   "source": [
    "aStar('Arad','Bucharest')"
   ]
  },
  {
   "cell_type": "code",
   "execution_count": 6,
   "id": "45bd2b22",
   "metadata": {},
   "outputs": [],
   "source": [
    "def heuristic(n):\n",
    "    h_dist = {\n",
    "        'A' : 11,\n",
    "        'B' : 6,\n",
    "        'C' : 99,\n",
    "        'D' : 1,\n",
    "        'E' : 7,\n",
    "        'G' : 0,\n",
    "    }\n",
    "    return h_dist[n]"
   ]
  },
  {
   "cell_type": "code",
   "execution_count": 7,
   "id": "c1de95b3",
   "metadata": {},
   "outputs": [],
   "source": [
    "graph_nodes = {\n",
    "    'A' : [('B', 2), ('E', 3)],\n",
    "    'B' : [('C' , 1), ('G', 9)],\n",
    "    'C' : None,\n",
    "    'E' : [('D', 6)],\n",
    "    'D' : [('G',1)]\n",
    "}\n"
   ]
  },
  {
   "cell_type": "code",
   "execution_count": 8,
   "id": "df73fdee",
   "metadata": {},
   "outputs": [
    {
     "name": "stdout",
     "output_type": "stream",
     "text": [
      "Path found: ['A', 'E', 'D', 'G']\n"
     ]
    },
    {
     "data": {
      "text/plain": [
       "['A', 'E', 'D', 'G']"
      ]
     },
     "execution_count": 8,
     "metadata": {},
     "output_type": "execute_result"
    }
   ],
   "source": [
    "aStar('A', 'G')"
   ]
  }
 ],
 "metadata": {
  "kernelspec": {
   "display_name": "Python 3",
   "language": "python",
   "name": "python3"
  },
  "language_info": {
   "codemirror_mode": {
    "name": "ipython",
    "version": 3
   },
   "file_extension": ".py",
   "mimetype": "text/x-python",
   "name": "python",
   "nbconvert_exporter": "python",
   "pygments_lexer": "ipython3",
   "version": "3.8.8"
  }
 },
 "nbformat": 4,
 "nbformat_minor": 5
}
