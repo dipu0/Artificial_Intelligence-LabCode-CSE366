{
 "cells": [
  {
   "cell_type": "markdown",
   "id": "22128b71",
   "metadata": {},
   "source": [
    "# Lab work 4"
   ]
  },
  {
   "cell_type": "markdown",
   "id": "d148710c",
   "metadata": {},
   "source": [
    "# BFS"
   ]
  },
  {
   "cell_type": "code",
   "execution_count": 1,
   "id": "841da789",
   "metadata": {},
   "outputs": [],
   "source": [
    "# sample graph implemented as a dictionary\n",
    "graph = {'A': ['B', 'C', 'E'],\n",
    "'B': ['A','D', 'E'],\n",
    "'C': ['A', 'F', 'G'],\n",
    "'D': ['B'],\n",
    "'E': ['A', 'B','D'],\n",
    "'F': ['C'],\n",
    "'G': ['C']}"
   ]
  },
  {
   "cell_type": "code",
   "execution_count": 2,
   "id": "33687844",
   "metadata": {},
   "outputs": [],
   "source": [
    "# finds shortest path between 2 nodes of a graph using BFS\n",
    "def bfs_shortest_path(graph, start, goal):\n",
    "    # keep track of explored nodes\n",
    "    explored = []\n",
    "    # keep track of all the paths to be checked\n",
    "    queue = [[start]]\n",
    "    # return path if start is goal\n",
    "    if start == goal:\n",
    "        return \"That was easy! Start = goal\"\n",
    "    # keeps looping until all possible paths have been checked\n",
    "    while queue:\n",
    "        # pop the first path from the queue\n",
    "        path = queue.pop(0)\n",
    "        # get the last node from the path\n",
    "        node = path[-1]\n",
    "        if node not in explored:\n",
    "            neighbours = graph[node]\n",
    "            # go through all neighbour nodes, construct a new path and\n",
    "            # push it into the queue\n",
    "            for neighbour in neighbours:\n",
    "                new_path = list(path)\n",
    "                new_path.append(neighbour)\n",
    "                queue.append(new_path)\n",
    "                # return path if neighbour is goal\n",
    "                if neighbour == goal:\n",
    "                    return new_path\n",
    "            # mark node as explored\n",
    "            explored.append(node)\n",
    "    # in case there's no path between the 2 nodes\n",
    "    return \"So sorry, but a connecting path doesn't exist :(\""
   ]
  },
  {
   "cell_type": "code",
   "execution_count": 3,
   "id": "0e349e8a",
   "metadata": {},
   "outputs": [
    {
     "data": {
      "text/plain": [
       "['G', 'C', 'A', 'B', 'D']"
      ]
     },
     "execution_count": 3,
     "metadata": {},
     "output_type": "execute_result"
    }
   ],
   "source": [
    "# returns ['G', 'C', 'A', 'B', 'D']\n",
    "bfs_shortest_path(graph, 'G', 'D')"
   ]
  },
  {
   "cell_type": "markdown",
   "id": "c41a962a",
   "metadata": {},
   "source": [
    "# DFS"
   ]
  },
  {
   "cell_type": "code",
   "execution_count": 4,
   "id": "96f6a9c6",
   "metadata": {},
   "outputs": [],
   "source": [
    "# Using a Python dictionary to act as an adjacency list\n",
    "graph = {\n",
    "    'A' : ['B','C'],\n",
    "    'B' : ['D', 'E'],\n",
    "    'C' : ['F'],\n",
    "    'D' : [],\n",
    "    'E' : ['F'],\n",
    "    'F' : []\n",
    "}"
   ]
  },
  {
   "cell_type": "code",
   "execution_count": 5,
   "id": "f5b1d61b",
   "metadata": {},
   "outputs": [],
   "source": [
    "def dfs(graph, start):\n",
    "    visited=[]\n",
    "    stack = [start]\n",
    "    while stack:\n",
    "        vertex = stack.pop()\n",
    "        if vertex not in visited:\n",
    "            visited.append(vertex)\n",
    "            stack.extend(set(graph[vertex]) - set(visited)) #Convert to set() then subtract \n",
    "    return visited"
   ]
  },
  {
   "cell_type": "code",
   "execution_count": 6,
   "id": "44671750",
   "metadata": {},
   "outputs": [
    {
     "data": {
      "text/plain": [
       "['A', 'C', 'F', 'B', 'E', 'D']"
      ]
     },
     "execution_count": 6,
     "metadata": {},
     "output_type": "execute_result"
    }
   ],
   "source": [
    "dfs(graph, 'A')"
   ]
  },
  {
   "cell_type": "markdown",
   "id": "0b2bca48",
   "metadata": {},
   "source": [
    "# UCS"
   ]
  },
  {
   "cell_type": "code",
   "execution_count": 8,
   "id": "6e2411db",
   "metadata": {},
   "outputs": [],
   "source": [
    "import queue as Q\n",
    "\n",
    "def search(graph, start, end):\n",
    "    if start not in graph:\n",
    "        raise TypeError(str(start) + ' not found in graph !')\n",
    "        return\n",
    "    if end not in graph:\n",
    "        raise TypeError(str(end) + ' not found in graph !')\n",
    "        return\n",
    "    queue = Q.PriorityQueue()\n",
    "    queue.put((0, [start]))\n",
    "    while not queue.empty():\n",
    "        node = queue.get()\n",
    "        current = node[1][len(node[1]) - 1]\n",
    "        if end in node[1]:\n",
    "            print(\"Path found: \" + str(node[1]) + \", Cost = \" + str(node[0]))\n",
    "            break\n",
    "        cost = node[0]\n",
    "        for neighbor in graph[current]:\n",
    "            temp = node[1][:]\n",
    "            temp.append(neighbor)\n",
    "            queue.put((cost + graph[current][neighbor], temp))\n",
    "            \n",
    "def readGraph():\n",
    "    lines = int( input() )\n",
    "    graph = {}\n",
    "    for line in range(lines):\n",
    "        line = input()\n",
    "        tokens = line.split()\n",
    "        node = tokens[0]\n",
    "        graph[node] = {}\n",
    "        print\n",
    "        for i in range(1, len(tokens) - 1, 2):\n",
    "            #print(node, tokens[i], tokens[i + 1])\n",
    "            #graph.addEdge(node, tokens[i], int(tokens[i + 1]))\n",
    "            graph[node][tokens[i]] = int(tokens[i + 1])\n",
    "    return graph"
   ]
  },
  {
   "cell_type": "code",
   "execution_count": 9,
   "id": "8e19df36",
   "metadata": {
    "scrolled": true
   },
   "outputs": [
    {
     "name": "stdout",
     "output_type": "stream",
     "text": [
      "14\n",
      "Arad Zerind 75 Timisoara 118 Sibiu 140\n",
      "Zerind Oradea 71 Arad 75\n",
      "Timisoara Arad 118 Lugoj 111\n",
      "Sibiu Arad 140 Oradea 151 Fagaras 99 RimnicuVilcea 80\n",
      "Oradea Zerind 71 Sibiu 151\n",
      "Lugoj Timisoara 111 Mehadia 70\n",
      "RimnicuVilcea Sibiu 80 Pitesti 97 Craiova 146\n",
      "Mehadia Lugoj 70 Dobreta 75\n",
      "Craiova Dobreta 120 RimnicuVilcea 146 Pitesti 138\n",
      "Pitesti RimnicuVilcea 97 Craiova 138 Bucharest 101\n",
      "Fagaras Sibiu 99 Bucharest 211\n",
      "Dobreta Mehadia 75 Craiova 120\n",
      "Bucharest Fagaras 211 Pitesti 101 Giurgiu 90\n",
      "Giurgiu Bucharest 90\n"
     ]
    }
   ],
   "source": [
    "graph = readGraph()"
   ]
  },
  {
   "cell_type": "code",
   "execution_count": 10,
   "id": "1b7dc996",
   "metadata": {},
   "outputs": [
    {
     "name": "stdout",
     "output_type": "stream",
     "text": [
      "Path found: ['Arad', 'Sibiu', 'RimnicuVilcea', 'Pitesti', 'Bucharest'], Cost = 418\n"
     ]
    }
   ],
   "source": [
    "search(graph, 'Arad', 'Bucharest')"
   ]
  },
  {
   "cell_type": "code",
   "execution_count": null,
   "id": "077648ba",
   "metadata": {},
   "outputs": [],
   "source": []
  }
 ],
 "metadata": {
  "kernelspec": {
   "display_name": "Python 3",
   "language": "python",
   "name": "python3"
  },
  "language_info": {
   "codemirror_mode": {
    "name": "ipython",
    "version": 3
   },
   "file_extension": ".py",
   "mimetype": "text/x-python",
   "name": "python",
   "nbconvert_exporter": "python",
   "pygments_lexer": "ipython3",
   "version": "3.8.8"
  }
 },
 "nbformat": 4,
 "nbformat_minor": 5
}
